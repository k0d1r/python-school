{
 "cells": [
  {
   "cell_type": "markdown",
   "id": "0ede2f74",
   "metadata": {},
   "source": [
    "10 a kadar bir liste oluşturun ve for dönügüsü yazarak içerisinde gezmesini sağlayın devamında 3 ve 5 olduğunda atlamasını sağlayın. Önce liste oluşturulacak, for dönügüsü yazılacak ve continue ile atlanması sağlanacak"
   ]
  },
  {
   "cell_type": "code",
   "execution_count": 5,
   "id": "96e09fd9",
   "metadata": {},
   "outputs": [
    {
     "name": "stdout",
     "output_type": "stream",
     "text": [
      "i: 1\n",
      "i: 2\n",
      "i: 4\n",
      "i: 6\n",
      "i: 7\n",
      "i: 8\n",
      "i: 9\n"
     ]
    }
   ],
   "source": [
    "liste = [1,2,3,4,5,6,7,8,9] # continue kullanalım.\n",
    "\n",
    "\n",
    "for i in liste:\n",
    "    if (i == 3 or i == 5):\n",
    "        continue\n",
    "    print(\"i:\",i)"
   ]
  },
  {
   "cell_type": "markdown",
   "id": "35b4037e",
   "metadata": {},
   "source": [
    "Her bir while döngüsünde kullanıcıdan bir sayı alın ve kullanıcının girdiği sayıları \"toplam\" isimli bir değişkene ekleyin. Kullanıcı \"q\" tuşuna bastığı zaman döngüyü sonlandırın ve ekrana \"toplam değişkenini\" bastırın.\n"
   ]
  },
  {
   "cell_type": "code",
   "execution_count": 7,
   "id": "a8dff84b",
   "metadata": {},
   "outputs": [
    {
     "name": "stdout",
     "output_type": "stream",
     "text": [
      "Sayı:q\n",
      "Girdiğiniz Sayıların Toplamı: 0\n"
     ]
    }
   ],
   "source": [
    "toplam = 0\n",
    "\n",
    "while True:\n",
    "    \n",
    "    sayı = input(\"Sayı:\")\n",
    "    \n",
    "    if (sayı == \"q\"):\n",
    "        break\n",
    "    sayı = int(sayı);\n",
    "    \n",
    "    toplam += sayı\n",
    "    \n",
    "print(\"Girdiğiniz Sayıların Toplamı:\",toplam)"
   ]
  },
  {
   "cell_type": "code",
   "execution_count": null,
   "id": "39c79bf6",
   "metadata": {},
   "outputs": [],
   "source": []
  },
  {
   "cell_type": "markdown",
   "id": "7d62e1d7",
   "metadata": {},
   "source": [
    "HelloWorld isimli bir tane fonksiyon oluşturun ve içerisinde sadece print fonsiyonu yer alsın ve Merhaba yazsın --içerisine herhangi bir parametre almayacak"
   ]
  },
  {
   "cell_type": "code",
   "execution_count": 1,
   "id": "8a23875b",
   "metadata": {},
   "outputs": [],
   "source": [
    "def HelloWorld(): \n",
    "    print(\"Merhaba\")\n",
    "    print(\"Merhabaa?\")"
   ]
  },
  {
   "cell_type": "code",
   "execution_count": 2,
   "id": "eac12836",
   "metadata": {},
   "outputs": [
    {
     "name": "stdout",
     "output_type": "stream",
     "text": [
      "Merhaba\n",
      "Merhabaa?\n"
     ]
    }
   ],
   "source": [
    "HelloWorld()"
   ]
  },
  {
   "cell_type": "markdown",
   "id": "4038be16",
   "metadata": {},
   "source": [
    "Merhaba isimli bir fonksiyon tanımlayın ve içerisine sadece isim parametresini alsın. Print fonksiyonu ile bu ismin ekrana yazdırılmasını sağlayın"
   ]
  },
  {
   "cell_type": "code",
   "execution_count": 4,
   "id": "5017ab57",
   "metadata": {},
   "outputs": [],
   "source": [
    "def merhaba(isim): # isim değişkenimiz burada parametre olmaktadır\n",
    "    print(\"Merhaba:\",isim)\n"
   ]
  },
  {
   "cell_type": "code",
   "execution_count": 5,
   "id": "8da0134d",
   "metadata": {},
   "outputs": [
    {
     "ename": "TypeError",
     "evalue": "merhaba() missing 1 required positional argument: 'isim'",
     "output_type": "error",
     "traceback": [
      "\u001b[1;31m---------------------------------------------------------------------------\u001b[0m",
      "\u001b[1;31mTypeError\u001b[0m                                 Traceback (most recent call last)",
      "Input \u001b[1;32mIn [5]\u001b[0m, in \u001b[0;36m<cell line: 1>\u001b[1;34m()\u001b[0m\n\u001b[1;32m----> 1\u001b[0m \u001b[43mmerhaba\u001b[49m\u001b[43m(\u001b[49m\u001b[43m)\u001b[49m\n",
      "\u001b[1;31mTypeError\u001b[0m: merhaba() missing 1 required positional argument: 'isim'"
     ]
    }
   ],
   "source": [
    "merhaba()"
   ]
  },
  {
   "cell_type": "code",
   "execution_count": 7,
   "id": "2aa06801",
   "metadata": {},
   "outputs": [
    {
     "name": "stdout",
     "output_type": "stream",
     "text": [
      "Merhaba: ahmet\n"
     ]
    }
   ],
   "source": [
    "merhaba(\"ahmet\")"
   ]
  },
  {
   "cell_type": "code",
   "execution_count": null,
   "id": "cb23257b",
   "metadata": {},
   "outputs": [],
   "source": []
  },
  {
   "cell_type": "markdown",
   "id": "6c683d1e",
   "metadata": {},
   "source": [
    "3 parametre alacak toplama fonksiyonu oluşturun ve formatlı bir şekilde yazdırın"
   ]
  },
  {
   "cell_type": "code",
   "execution_count": 14,
   "id": "0caaa4cd",
   "metadata": {},
   "outputs": [],
   "source": [
    "def toplama(a,b,c):\n",
    "    print(\"{}, {} ve {}'nin toplamları {}dır\".format(a,b,c,a+b+c))"
   ]
  },
  {
   "cell_type": "code",
   "execution_count": 15,
   "id": "62f83aa9",
   "metadata": {},
   "outputs": [
    {
     "name": "stdout",
     "output_type": "stream",
     "text": [
      "4, 5 ve 6'nin toplamları 15dır\n"
     ]
    }
   ],
   "source": [
    "toplama(4,5,6)"
   ]
  },
  {
   "cell_type": "code",
   "execution_count": null,
   "id": "c8f10ac0",
   "metadata": {},
   "outputs": [],
   "source": []
  },
  {
   "cell_type": "markdown",
   "id": "4b00fa1f",
   "metadata": {},
   "source": [
    "2 ile çarpma fonksiyonu oluşturun ve formatlı bir şekilde yazıdırın"
   ]
  },
  {
   "cell_type": "code",
   "execution_count": 19,
   "id": "4db3d73b",
   "metadata": {},
   "outputs": [],
   "source": [
    "def carpma(a):\n",
    "    print(\"{}'nın 2 ile çarpımı {}'dır\".format(a,a*2))"
   ]
  },
  {
   "cell_type": "code",
   "execution_count": 20,
   "id": "6cf58ec2",
   "metadata": {},
   "outputs": [
    {
     "name": "stdout",
     "output_type": "stream",
     "text": [
      "2'nın 2 ile çarpımı 4'dır\n"
     ]
    }
   ],
   "source": [
    "carpma(2)"
   ]
  },
  {
   "cell_type": "code",
   "execution_count": null,
   "id": "c20a26f1",
   "metadata": {},
   "outputs": [],
   "source": []
  },
  {
   "cell_type": "markdown",
   "id": "45bb9277",
   "metadata": {},
   "source": [
    "return'ü kullanarak toplama ve çarpma fonksiyonu yazın"
   ]
  },
  {
   "cell_type": "code",
   "execution_count": 21,
   "id": "9d671e75",
   "metadata": {},
   "outputs": [],
   "source": [
    "def toplama(a,b,c):\n",
    "    return a+b+c # return'un kullanımı \n",
    "def ikiyle_çarp(a):\n",
    "    return a*2\n"
   ]
  },
  {
   "cell_type": "code",
   "execution_count": null,
   "id": "36329963",
   "metadata": {},
   "outputs": [],
   "source": []
  },
  {
   "cell_type": "markdown",
   "id": "15916268",
   "metadata": {},
   "source": [
    "Toplama fonksiyonunu toplama değerine atayın daha sonrasında ikiyle çarp fonksiyonuyla birlikte kullanarak yazdırın"
   ]
  },
  {
   "cell_type": "code",
   "execution_count": 22,
   "id": "df561f14",
   "metadata": {},
   "outputs": [
    {
     "name": "stdout",
     "output_type": "stream",
     "text": [
      "24\n"
     ]
    }
   ],
   "source": [
    "toplam = toplama(3,4,5)\n",
    "print(ikiyle_çarp(toplam))"
   ]
  },
  {
   "cell_type": "code",
   "execution_count": null,
   "id": "c897cebe",
   "metadata": {},
   "outputs": [],
   "source": []
  },
  {
   "cell_type": "code",
   "execution_count": null,
   "id": "f23b291d",
   "metadata": {},
   "outputs": [],
   "source": []
  },
  {
   "cell_type": "markdown",
   "id": "ccfefbdd",
   "metadata": {},
   "source": [
    "içerisinde isim, soyisim, okulno ve tc parametrelerini içeren bilgiler isimli bir fonksiyon oluşturun daha sonrasında formatlı bir şekilde yazdırın"
   ]
  },
  {
   "cell_type": "code",
   "execution_count": null,
   "id": "3ea5b678",
   "metadata": {},
   "outputs": [],
   "source": [
    "def bilgiler(isim,soyisim,okulno,tc):\n",
    "    print(\"İsim:{}\\nSoyisim:{}\\nOkul Numarası:{}\\nTC:{}\\n\".format(isim,soyisim,okulno,tc))"
   ]
  },
  {
   "cell_type": "code",
   "execution_count": null,
   "id": "d6b1efa0",
   "metadata": {},
   "outputs": [],
   "source": []
  },
  {
   "cell_type": "code",
   "execution_count": null,
   "id": "2ff1e091",
   "metadata": {},
   "outputs": [],
   "source": []
  },
  {
   "cell_type": "markdown",
   "id": "5a0b1ed7",
   "metadata": {},
   "source": [
    "içerisinde araba markası, modeli ve yılını  içeren araba isimli bir fonksiyon oluşturun daha sonrasında formatlı bir şekilde yazdırın. Herhangi bir parametrenin eksik olma ihtimaline karşı bilgi yok seçeneğini ekleyin"
   ]
  },
  {
   "cell_type": "code",
   "execution_count": 23,
   "id": "03841868",
   "metadata": {},
   "outputs": [],
   "source": [
    "def araba(marka = \"Bilgi Yok\",model = \"Bilgi Yok\",yıl =  \"Bilgi Yok\"):\n",
    "    print(\"Marka:{}\\nModel:{}\\nYılı:{}\".format(marka,model,yıl))"
   ]
  },
  {
   "cell_type": "code",
   "execution_count": 25,
   "id": "06bdd75d",
   "metadata": {},
   "outputs": [
    {
     "name": "stdout",
     "output_type": "stream",
     "text": [
      "Marka:BMW\n",
      "Model:420\n",
      "Yılı:Bilgi Yok\n"
     ]
    }
   ],
   "source": [
    "araba(\"BMW\",420)"
   ]
  },
  {
   "cell_type": "code",
   "execution_count": null,
   "id": "9ed2647f",
   "metadata": {},
   "outputs": [],
   "source": []
  },
  {
   "cell_type": "markdown",
   "id": "7940225d",
   "metadata": {},
   "source": [
    "listenin elemanlarını toplayacak bir fonksiyon yazın"
   ]
  },
  {
   "cell_type": "code",
   "execution_count": 32,
   "id": "215b23ec",
   "metadata": {},
   "outputs": [],
   "source": [
    "def liste_toplam(liste):\n",
    "    toplam = 0\n",
    "    for eleman in liste:\n",
    "        toplam += eleman\n",
    "    return toplam"
   ]
  },
  {
   "cell_type": "code",
   "execution_count": 33,
   "id": "1f331271",
   "metadata": {},
   "outputs": [
    {
     "name": "stdout",
     "output_type": "stream",
     "text": [
      "15\n"
     ]
    }
   ],
   "source": [
    "print(liste_toplam([1, 2, 3, 4, 5]))"
   ]
  },
  {
   "cell_type": "code",
   "execution_count": 34,
   "id": "aa0a53aa",
   "metadata": {},
   "outputs": [
    {
     "data": {
      "text/plain": [
       "10"
      ]
     },
     "execution_count": 34,
     "metadata": {},
     "output_type": "execute_result"
    }
   ],
   "source": [
    "liste_toplam([1,2,3,4])"
   ]
  },
  {
   "cell_type": "code",
   "execution_count": null,
   "id": "ad479090",
   "metadata": {},
   "outputs": [],
   "source": []
  },
  {
   "cell_type": "markdown",
   "id": "9398da49",
   "metadata": {},
   "source": [
    "kelime sayısını hesaplayacak bir fonksiyon yazınız"
   ]
  },
  {
   "cell_type": "code",
   "execution_count": 36,
   "id": "b537e2f5",
   "metadata": {},
   "outputs": [],
   "source": [
    "def kelime_sayisi(cumle):\n",
    "    kelimeler = cumle.split()\n",
    "    return len(kelimeler)"
   ]
  },
  {
   "cell_type": "code",
   "execution_count": 37,
   "id": "808846ad",
   "metadata": {},
   "outputs": [
    {
     "name": "stdout",
     "output_type": "stream",
     "text": [
      "2\n"
     ]
    }
   ],
   "source": [
    "print(kelime_sayisi(\"Merhaba, dünya!\"))"
   ]
  },
  {
   "cell_type": "code",
   "execution_count": null,
   "id": "cae897ce",
   "metadata": {},
   "outputs": [],
   "source": []
  },
  {
   "cell_type": "code",
   "execution_count": null,
   "id": "47ef87f0",
   "metadata": {},
   "outputs": [],
   "source": []
  },
  {
   "cell_type": "code",
   "execution_count": null,
   "id": "48cec3ee",
   "metadata": {},
   "outputs": [],
   "source": []
  },
  {
   "cell_type": "code",
   "execution_count": null,
   "id": "a2e33f45",
   "metadata": {},
   "outputs": [],
   "source": []
  },
  {
   "cell_type": "code",
   "execution_count": null,
   "id": "ec64fd7f",
   "metadata": {},
   "outputs": [],
   "source": []
  },
  {
   "cell_type": "code",
   "execution_count": null,
   "id": "3bd12dda",
   "metadata": {},
   "outputs": [],
   "source": []
  },
  {
   "cell_type": "code",
   "execution_count": null,
   "id": "d32706a2",
   "metadata": {},
   "outputs": [],
   "source": []
  },
  {
   "cell_type": "code",
   "execution_count": null,
   "id": "f770f518",
   "metadata": {},
   "outputs": [],
   "source": []
  },
  {
   "cell_type": "code",
   "execution_count": null,
   "id": "1631b471",
   "metadata": {},
   "outputs": [],
   "source": []
  },
  {
   "cell_type": "code",
   "execution_count": null,
   "id": "96f98a7b",
   "metadata": {},
   "outputs": [],
   "source": []
  },
  {
   "cell_type": "code",
   "execution_count": null,
   "id": "db72e4fe",
   "metadata": {},
   "outputs": [],
   "source": []
  },
  {
   "cell_type": "code",
   "execution_count": null,
   "id": "7f7a8830",
   "metadata": {},
   "outputs": [],
   "source": []
  },
  {
   "cell_type": "code",
   "execution_count": null,
   "id": "4db1da52",
   "metadata": {},
   "outputs": [],
   "source": []
  },
  {
   "cell_type": "code",
   "execution_count": null,
   "id": "eba334c8",
   "metadata": {},
   "outputs": [],
   "source": []
  },
  {
   "cell_type": "code",
   "execution_count": null,
   "id": "3f71e1b9",
   "metadata": {},
   "outputs": [],
   "source": []
  },
  {
   "cell_type": "code",
   "execution_count": null,
   "id": "34874c9d",
   "metadata": {},
   "outputs": [],
   "source": []
  },
  {
   "cell_type": "code",
   "execution_count": null,
   "id": "2b5f2171",
   "metadata": {},
   "outputs": [],
   "source": []
  },
  {
   "cell_type": "code",
   "execution_count": null,
   "id": "3bdcbbca",
   "metadata": {},
   "outputs": [],
   "source": []
  },
  {
   "cell_type": "code",
   "execution_count": null,
   "id": "2b8a57b7",
   "metadata": {},
   "outputs": [],
   "source": []
  },
  {
   "cell_type": "code",
   "execution_count": null,
   "id": "76f1df58",
   "metadata": {},
   "outputs": [],
   "source": []
  },
  {
   "cell_type": "code",
   "execution_count": null,
   "id": "bcff6e82",
   "metadata": {},
   "outputs": [],
   "source": []
  },
  {
   "cell_type": "code",
   "execution_count": null,
   "id": "c37188cf",
   "metadata": {},
   "outputs": [],
   "source": []
  },
  {
   "cell_type": "code",
   "execution_count": null,
   "id": "99a68491",
   "metadata": {},
   "outputs": [],
   "source": []
  },
  {
   "cell_type": "code",
   "execution_count": null,
   "id": "4a62a3c2",
   "metadata": {},
   "outputs": [],
   "source": []
  },
  {
   "cell_type": "code",
   "execution_count": null,
   "id": "926ae14d",
   "metadata": {},
   "outputs": [],
   "source": []
  },
  {
   "cell_type": "code",
   "execution_count": null,
   "id": "21af5f59",
   "metadata": {},
   "outputs": [],
   "source": []
  },
  {
   "cell_type": "code",
   "execution_count": null,
   "id": "3ed2d0fc",
   "metadata": {},
   "outputs": [],
   "source": []
  },
  {
   "cell_type": "code",
   "execution_count": null,
   "id": "715288c7",
   "metadata": {},
   "outputs": [],
   "source": []
  },
  {
   "cell_type": "code",
   "execution_count": null,
   "id": "19505721",
   "metadata": {},
   "outputs": [],
   "source": []
  },
  {
   "cell_type": "code",
   "execution_count": null,
   "id": "0334bbe0",
   "metadata": {},
   "outputs": [],
   "source": []
  },
  {
   "cell_type": "code",
   "execution_count": null,
   "id": "da50162b",
   "metadata": {},
   "outputs": [],
   "source": []
  },
  {
   "cell_type": "code",
   "execution_count": null,
   "id": "870d591b",
   "metadata": {},
   "outputs": [],
   "source": []
  },
  {
   "cell_type": "code",
   "execution_count": null,
   "id": "711de761",
   "metadata": {},
   "outputs": [],
   "source": []
  },
  {
   "cell_type": "code",
   "execution_count": null,
   "id": "a8f027e8",
   "metadata": {},
   "outputs": [],
   "source": []
  },
  {
   "cell_type": "code",
   "execution_count": null,
   "id": "dbe9c314",
   "metadata": {},
   "outputs": [],
   "source": []
  },
  {
   "cell_type": "code",
   "execution_count": null,
   "id": "4f7a15ed",
   "metadata": {},
   "outputs": [],
   "source": []
  },
  {
   "cell_type": "code",
   "execution_count": null,
   "id": "0d23a87a",
   "metadata": {},
   "outputs": [],
   "source": []
  },
  {
   "cell_type": "code",
   "execution_count": null,
   "id": "3d2d7760",
   "metadata": {},
   "outputs": [],
   "source": []
  },
  {
   "cell_type": "code",
   "execution_count": null,
   "id": "300fdb70",
   "metadata": {},
   "outputs": [],
   "source": []
  },
  {
   "cell_type": "code",
   "execution_count": null,
   "id": "6a7a8c3c",
   "metadata": {},
   "outputs": [],
   "source": []
  },
  {
   "cell_type": "code",
   "execution_count": null,
   "id": "fba6caab",
   "metadata": {},
   "outputs": [],
   "source": []
  },
  {
   "cell_type": "code",
   "execution_count": null,
   "id": "e6ac7236",
   "metadata": {},
   "outputs": [],
   "source": []
  },
  {
   "cell_type": "code",
   "execution_count": null,
   "id": "60ba91a2",
   "metadata": {},
   "outputs": [],
   "source": []
  },
  {
   "cell_type": "code",
   "execution_count": null,
   "id": "dbb7e2f5",
   "metadata": {},
   "outputs": [],
   "source": []
  },
  {
   "cell_type": "code",
   "execution_count": null,
   "id": "159a6168",
   "metadata": {},
   "outputs": [],
   "source": []
  }
 ],
 "metadata": {
  "kernelspec": {
   "display_name": "Python 3 (ipykernel)",
   "language": "python",
   "name": "python3"
  },
  "language_info": {
   "codemirror_mode": {
    "name": "ipython",
    "version": 3
   },
   "file_extension": ".py",
   "mimetype": "text/x-python",
   "name": "python",
   "nbconvert_exporter": "python",
   "pygments_lexer": "ipython3",
   "version": "3.9.12"
  }
 },
 "nbformat": 4,
 "nbformat_minor": 5
}
