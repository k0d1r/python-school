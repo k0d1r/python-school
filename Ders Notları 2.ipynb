{
 "cells": [
  {
   "cell_type": "markdown",
   "id": "27e72301",
   "metadata": {},
   "source": [
    "3 + 4 'nin toplamı 7 'dır çıktısını print fonksiyonunu ve Formatı kullanarak yazdırın"
   ]
  },
  {
   "cell_type": "code",
   "execution_count": null,
   "id": "5ca3bd8a",
   "metadata": {},
   "outputs": [],
   "source": []
  },
  {
   "cell_type": "markdown",
   "id": "0fa40287",
   "metadata": {},
   "source": [
    "Liste Oluşturun"
   ]
  },
  {
   "cell_type": "code",
   "execution_count": null,
   "id": "a6130975",
   "metadata": {},
   "outputs": [],
   "source": []
  },
  {
   "cell_type": "markdown",
   "id": "cd816a23",
   "metadata": {},
   "source": [
    "Tuple oluşturun"
   ]
  },
  {
   "cell_type": "code",
   "execution_count": null,
   "id": "a4676fcf",
   "metadata": {},
   "outputs": [],
   "source": []
  },
  {
   "cell_type": "markdown",
   "id": "0f923c61",
   "metadata": {},
   "source": [
    "Input Fonsiyonu ile kullanıcıdan 2 sayı alın ve bunların toplamını formatlı bir şekilde yazdırın"
   ]
  },
  {
   "cell_type": "code",
   "execution_count": null,
   "id": "380eef85",
   "metadata": {},
   "outputs": [],
   "source": []
  },
  {
   "cell_type": "markdown",
   "id": "eff87d1b",
   "metadata": {},
   "source": [
    "### Karşılaştırma Operatörleri \n",
    "\n",
    "<table class=\"table table-bordered\">\n",
    "<tr>\n",
    "<th style=\"width:10%\">Operatör</th><th style=\"width:45%\">Görevi</th><th>Örnek</th>\n",
    "</tr>\n",
    "<tr>\n",
    "<td>==</td>\n",
    "<td>İki değer birbirine eşitse True, değilse False değer döner.</td>\n",
    "<td> 2 == 2 (True) ,  2 == 3 (False)</td>\n",
    "</tr>\n",
    "<tr>\n",
    "<td>!=</td>\n",
    "<td>İki değer birbirine eşit değilse True, diğer durumda False döner.</td>\n",
    "<td>2 != 2 (False), 2 != 3 (True)</td>\n",
    "</tr>\n",
    "<tr>\n",
    "<td>&gt;</td>\n",
    "<td>Soldaki değer sağdaki değerden büyükse True, değilse False döner. </td>\n",
    "<td> 3 > 2 (True), 2 > 3 (False)</td>\n",
    "</tr>\n",
    "<tr>\n",
    "<td>&lt;</td>\n",
    "<td>Soldaki değer sağdaki değerden küçükse True, değilse False döner.</td>\n",
    "<td> 2 &lt; 3 (True) , 3 &lt; 2 (False) </td>\n",
    "</tr>\n",
    "<tr>\n",
    "<td>&gt;=</td>\n",
    "<td>Soldaki değer sağdaki değerden büyükse veya sağdaki değere eşitse True, değilse False döner.</td>\n",
    "<td> 3 &gt;= 2 (True),3 &gt;= 3 (True) , 2 &gt;= 3 (False)</td>\n",
    "</tr>\n",
    "<tr>\n",
    "<td>&lt;=</td>\n",
    "<td>Soldaki değer sağdaki değerden küçükse veya sağdaki değere eşitse True, değilse False döner.</td>\n",
    "<td> 3 &lt;= 2 (False),3 &lt;= 3 (True) , 2 &lt;= 3 (True) </td>\n",
    "</tr>\n",
    "</table>"
   ]
  },
  {
   "cell_type": "markdown",
   "id": "7b40124a",
   "metadata": {},
   "source": [
    "If ile yaş kontrolü yaparak ehliyet almak için sınava girip giremeceğini ekrana yazdırın"
   ]
  },
  {
   "cell_type": "code",
   "execution_count": null,
   "id": "821f8176",
   "metadata": {},
   "outputs": [],
   "source": []
  },
  {
   "cell_type": "markdown",
   "id": "e42fedd2",
   "metadata": {},
   "source": [
    "Öğrenciden sınavdan kaç puan aldığını öğreniniz. Sonrasında 90-AA,85-Ba,80-BB,75-CB,70-CC,65-DC, 60-dd ve diğer durumlarda kalacak şekilde ayarlayınız. input, if-elif ve else kullanılacak"
   ]
  },
  {
   "cell_type": "code",
   "execution_count": null,
   "id": "3448168a",
   "metadata": {},
   "outputs": [],
   "source": []
  },
  {
   "cell_type": "markdown",
   "id": "3fd50ff5",
   "metadata": {},
   "source": [
    "Bir kullanıcıdan bir sayı alın ve bu sayının pozitif, negatif veya sıfır olduğunu belirleyen bir kod yazın"
   ]
  },
  {
   "cell_type": "code",
   "execution_count": null,
   "id": "eb4b0320",
   "metadata": {},
   "outputs": [],
   "source": []
  },
  {
   "cell_type": "code",
   "execution_count": null,
   "id": "ed5aed67",
   "metadata": {},
   "outputs": [],
   "source": []
  },
  {
   "cell_type": "code",
   "execution_count": null,
   "id": "0ffc7a28",
   "metadata": {},
   "outputs": [],
   "source": []
  },
  {
   "cell_type": "markdown",
   "id": "79a711d5",
   "metadata": {},
   "source": [
    "Önceki konumuzda koşullu durumlarımızla sadece tek bir koşulu kontrol edebiliyorduk. Ancak programlamada bir durum bir çok koşula bağlı olabilir. Örneğin bir hesap makinesi programı yazdığımızda kullanıcının girdiği işlemlere göre koşullarımızı belirleyebiliriz. Bu tür durumlar için if-elif-else kalıplarını kullanırız. Kullanımı şu şekildedir;\n",
    "\n",
    "               if koşul: \n",
    "                   Yapılacak İşlemler\n",
    "               elif başka bir koşul:\n",
    "                   Yapılacak İşlemler\n",
    "               elif başka bir koşul:\n",
    "                   Yapılacak İşlemler\n",
    "                   \n",
    "                    //\n",
    "                    //\n",
    "               else:\n",
    "                   Yapılacak İşlemler \n",
    "Programlarımızda, Kaç tane koşulumuz var ise o kadar elif bloğu oluşturabiliriz. Ayrıca **else** in yazılması zorunlu değildir. if - elif - else kalıplarında, hangi koşul sağlanırsa program o bloğu çalıştırır ve if-elif-blokları sona erer.\n",
    "Şimdi isterseniz kullanıcıya işlem seçtirdiğimiz bir programla , bu kalıbı öğrenmeye başlayalım.\n",
    "\n",
    "\n",
    "                   \n",
    "                  "
   ]
  },
  {
   "cell_type": "code",
   "execution_count": null,
   "id": "0be6fe6f",
   "metadata": {},
   "outputs": [],
   "source": []
  },
  {
   "cell_type": "code",
   "execution_count": null,
   "id": "4f4b2b91",
   "metadata": {},
   "outputs": [],
   "source": []
  },
  {
   "cell_type": "code",
   "execution_count": null,
   "id": "0f43337a",
   "metadata": {},
   "outputs": [],
   "source": []
  },
  {
   "cell_type": "code",
   "execution_count": null,
   "id": "fcd5c80e",
   "metadata": {},
   "outputs": [],
   "source": []
  },
  {
   "cell_type": "code",
   "execution_count": null,
   "id": "f949affc",
   "metadata": {},
   "outputs": [],
   "source": []
  },
  {
   "cell_type": "code",
   "execution_count": null,
   "id": "cd8d15c2",
   "metadata": {},
   "outputs": [],
   "source": []
  },
  {
   "cell_type": "code",
   "execution_count": null,
   "id": "8e2cff23",
   "metadata": {},
   "outputs": [],
   "source": []
  },
  {
   "cell_type": "code",
   "execution_count": null,
   "id": "d5969901",
   "metadata": {},
   "outputs": [],
   "source": []
  },
  {
   "cell_type": "code",
   "execution_count": null,
   "id": "6582d615",
   "metadata": {},
   "outputs": [],
   "source": []
  },
  {
   "cell_type": "code",
   "execution_count": null,
   "id": "aa2ad855",
   "metadata": {},
   "outputs": [],
   "source": []
  },
  {
   "cell_type": "code",
   "execution_count": null,
   "id": "fb219777",
   "metadata": {},
   "outputs": [],
   "source": []
  },
  {
   "cell_type": "code",
   "execution_count": null,
   "id": "61ea0655",
   "metadata": {},
   "outputs": [],
   "source": []
  },
  {
   "cell_type": "code",
   "execution_count": null,
   "id": "8dcaf681",
   "metadata": {},
   "outputs": [],
   "source": []
  },
  {
   "cell_type": "code",
   "execution_count": null,
   "id": "09c7b954",
   "metadata": {},
   "outputs": [],
   "source": []
  }
 ],
 "metadata": {
  "kernelspec": {
   "display_name": "Python 3 (ipykernel)",
   "language": "python",
   "name": "python3"
  },
  "language_info": {
   "codemirror_mode": {
    "name": "ipython",
    "version": 3
   },
   "file_extension": ".py",
   "mimetype": "text/x-python",
   "name": "python",
   "nbconvert_exporter": "python",
   "pygments_lexer": "ipython3",
   "version": "3.9.12"
  }
 },
 "nbformat": 4,
 "nbformat_minor": 5
}
