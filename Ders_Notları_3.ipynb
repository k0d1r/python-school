{
 "cells": [
  {
   "cell_type": "markdown",
   "id": "d63a0d9c",
   "metadata": {},
   "source": [
    "String Bir İfade Giriniz ve a değerine Atayınız"
   ]
  },
  {
   "cell_type": "code",
   "execution_count": null,
   "id": "d3ff4254",
   "metadata": {},
   "outputs": [],
   "source": []
  },
  {
   "cell_type": "markdown",
   "id": "9792bc51",
   "metadata": {},
   "source": [
    "Girdiğiniz String İfadenin Tipini Öğrenin"
   ]
  },
  {
   "cell_type": "code",
   "execution_count": null,
   "id": "e47648d4",
   "metadata": {},
   "outputs": [],
   "source": []
  },
  {
   "cell_type": "markdown",
   "id": "9ca9ec1f",
   "metadata": {},
   "source": [
    "Float Bir İfade Girin ve b değerine Atayınız"
   ]
  },
  {
   "cell_type": "code",
   "execution_count": null,
   "id": "e05c6777",
   "metadata": {},
   "outputs": [],
   "source": []
  },
  {
   "cell_type": "markdown",
   "id": "a1c8ff97",
   "metadata": {},
   "source": [
    "Girdiğiniz Float İfadenin Tipini Öğrenin"
   ]
  },
  {
   "cell_type": "code",
   "execution_count": null,
   "id": "3db19680",
   "metadata": {},
   "outputs": [],
   "source": []
  },
  {
   "cell_type": "markdown",
   "id": "84f1cb7b",
   "metadata": {},
   "source": [
    "İnteger Bir İfade Giriniz ve c değerine Atayınız"
   ]
  },
  {
   "cell_type": "code",
   "execution_count": null,
   "id": "02959df7",
   "metadata": {},
   "outputs": [],
   "source": []
  },
  {
   "cell_type": "markdown",
   "id": "b0124104",
   "metadata": {},
   "source": [
    "Girdiğiniz İnteger İfadenin Tipini Öğrenin"
   ]
  },
  {
   "cell_type": "code",
   "execution_count": 6,
   "id": "b3328452",
   "metadata": {},
   "outputs": [],
   "source": []
  },
  {
   "cell_type": "markdown",
   "id": "aae4be8e",
   "metadata": {},
   "source": [
    "Bir Liste Oluşturun ve d değerine atayın"
   ]
  },
  {
   "cell_type": "code",
   "execution_count": null,
   "id": "51d53d2d",
   "metadata": {},
   "outputs": [],
   "source": []
  },
  {
   "cell_type": "markdown",
   "id": "f8b6560e",
   "metadata": {},
   "source": [
    "listeyi print fonksiyonunu kullanarak yazdırın"
   ]
  },
  {
   "cell_type": "code",
   "execution_count": null,
   "id": "7bdee07d",
   "metadata": {},
   "outputs": [],
   "source": []
  },
  {
   "cell_type": "markdown",
   "id": "5cb3a239",
   "metadata": {},
   "source": [
    "Bir Tuple(Demet) oluşturun"
   ]
  },
  {
   "cell_type": "code",
   "execution_count": null,
   "id": "174029c1",
   "metadata": {},
   "outputs": [],
   "source": []
  },
  {
   "cell_type": "markdown",
   "id": "853e2b52",
   "metadata": {},
   "source": [
    "Oluşturduğunuz Tuple'ı Print fonksiyonu ile yazdırın"
   ]
  },
  {
   "cell_type": "code",
   "execution_count": null,
   "id": "3a1618c2",
   "metadata": {},
   "outputs": [],
   "source": []
  },
  {
   "cell_type": "markdown",
   "id": "ef17d4eb",
   "metadata": {},
   "source": [
    "Bİr String oluşturun ve a değerine atayın daha sonrasında ilk indexine Ulaşın"
   ]
  },
  {
   "cell_type": "code",
   "execution_count": null,
   "id": "e3757a0c",
   "metadata": {},
   "outputs": [],
   "source": []
  },
  {
   "cell_type": "code",
   "execution_count": null,
   "id": "e39c47af",
   "metadata": {},
   "outputs": [],
   "source": []
  },
  {
   "cell_type": "markdown",
   "id": "8a187d80",
   "metadata": {},
   "source": [
    "Bİr String oluşturun ve a değerine atayın daha sonrasında son indexine Ulaşın"
   ]
  },
  {
   "cell_type": "code",
   "execution_count": null,
   "id": "7abf067f",
   "metadata": {},
   "outputs": [],
   "source": []
  },
  {
   "cell_type": "code",
   "execution_count": null,
   "id": "c509e64d",
   "metadata": {},
   "outputs": [],
   "source": []
  },
  {
   "cell_type": "markdown",
   "id": "e2bceb52",
   "metadata": {},
   "source": [
    "Bİr String oluşturun ve a değerine atayın daha sonrasında 4. indexten başlayacak şekilde son indexine Ulaşın"
   ]
  },
  {
   "cell_type": "code",
   "execution_count": null,
   "id": "051c0d10",
   "metadata": {},
   "outputs": [],
   "source": []
  },
  {
   "cell_type": "code",
   "execution_count": null,
   "id": "165484ad",
   "metadata": {},
   "outputs": [],
   "source": []
  },
  {
   "cell_type": "markdown",
   "id": "10057736",
   "metadata": {},
   "source": [
    "Bİr String oluşturun ve a değerine atayın daha sonrasında String'in Uzunluğunu Bulun"
   ]
  },
  {
   "cell_type": "code",
   "execution_count": null,
   "id": "0c8cce94",
   "metadata": {},
   "outputs": [],
   "source": []
  },
  {
   "cell_type": "code",
   "execution_count": null,
   "id": "e0b4189e",
   "metadata": {},
   "outputs": [],
   "source": []
  },
  {
   "cell_type": "markdown",
   "id": "d25eb9d4",
   "metadata": {},
   "source": [
    "Bİr İnterger oluşturun ve a değerine atayın daha sonrasında Float İfadeye Çevirin"
   ]
  },
  {
   "cell_type": "code",
   "execution_count": null,
   "id": "c281dadf",
   "metadata": {},
   "outputs": [],
   "source": []
  },
  {
   "cell_type": "code",
   "execution_count": null,
   "id": "e18784b4",
   "metadata": {},
   "outputs": [],
   "source": []
  },
  {
   "cell_type": "markdown",
   "id": "5d89073a",
   "metadata": {},
   "source": [
    "Bİr Float oluşturun ve a değerine atayın daha sonrasında int' e çevirin"
   ]
  },
  {
   "cell_type": "code",
   "execution_count": null,
   "id": "a6069970",
   "metadata": {},
   "outputs": [],
   "source": []
  },
  {
   "cell_type": "code",
   "execution_count": null,
   "id": "223ce1c0",
   "metadata": {},
   "outputs": [],
   "source": []
  },
  {
   "cell_type": "markdown",
   "id": "ec00156c",
   "metadata": {},
   "source": [
    "Print fonksiyonunu kullanın ve print fonksiyonunun içine int,float ve str ifadeler ekleyip ekrana yazdırın"
   ]
  },
  {
   "cell_type": "code",
   "execution_count": null,
   "id": "006af153",
   "metadata": {},
   "outputs": [],
   "source": []
  },
  {
   "cell_type": "code",
   "execution_count": null,
   "id": "b86bd2e9",
   "metadata": {},
   "outputs": [],
   "source": []
  },
  {
   "cell_type": "markdown",
   "id": "6efd4626",
   "metadata": {},
   "source": [
    "Print fonksiyonunu kullanın ve print fonksiyonunun içine str ifadeler ekleyip alt alta yazdırın"
   ]
  },
  {
   "cell_type": "code",
   "execution_count": null,
   "id": "257b9223",
   "metadata": {},
   "outputs": [],
   "source": []
  },
  {
   "cell_type": "code",
   "execution_count": null,
   "id": "76e64efc",
   "metadata": {},
   "outputs": [],
   "source": []
  },
  {
   "cell_type": "markdown",
   "id": "4deb051d",
   "metadata": {},
   "source": [
    "Print fonksiyonunu kullanın ve print fonksiyonunun içine str ifadeler ekleyip aralarında boşluk bırakarak yazdırın"
   ]
  },
  {
   "cell_type": "code",
   "execution_count": null,
   "id": "aacb2855",
   "metadata": {},
   "outputs": [],
   "source": []
  },
  {
   "cell_type": "code",
   "execution_count": null,
   "id": "c2416201",
   "metadata": {},
   "outputs": [],
   "source": []
  },
  {
   "cell_type": "markdown",
   "id": "e479dd76",
   "metadata": {},
   "source": [
    "Print fonksiyonunu kullanın ve print fonksiyonunun içine int ifadeler ekleyip sep parametresi ile str ifadelerin arasına gelecek . / gibi işaretleri belirleyin"
   ]
  },
  {
   "cell_type": "code",
   "execution_count": null,
   "id": "c6257c0f",
   "metadata": {},
   "outputs": [],
   "source": []
  },
  {
   "cell_type": "code",
   "execution_count": null,
   "id": "04b60028",
   "metadata": {},
   "outputs": [],
   "source": []
  },
  {
   "cell_type": "markdown",
   "id": "f1fcfb11",
   "metadata": {},
   "source": [
    "\"3 + 4 'nin toplamı 7 'dır\" ifadesinin formatlı bir şekilde yazılmasını sağlayın"
   ]
  },
  {
   "cell_type": "code",
   "execution_count": null,
   "id": "2776f0a9",
   "metadata": {},
   "outputs": [],
   "source": []
  },
  {
   "cell_type": "code",
   "execution_count": null,
   "id": "4b173f37",
   "metadata": {},
   "outputs": [],
   "source": []
  },
  {
   "cell_type": "markdown",
   "id": "19987dc3",
   "metadata": {},
   "source": [
    "Bir Liste oluşturun ve a değerine atayın daha sonrasında ilk indeksine ulaşın"
   ]
  },
  {
   "cell_type": "code",
   "execution_count": null,
   "id": "e2da974e",
   "metadata": {},
   "outputs": [],
   "source": []
  },
  {
   "cell_type": "code",
   "execution_count": null,
   "id": "3cecf944",
   "metadata": {},
   "outputs": [],
   "source": []
  },
  {
   "cell_type": "markdown",
   "id": "f8bf608c",
   "metadata": {},
   "source": [
    "Bir Liste oluşturun ve b değerine atayın daha sonrasında baştan başlayacak şekilde 2. indekse kadar yazdırın"
   ]
  },
  {
   "cell_type": "code",
   "execution_count": null,
   "id": "ee1d822d",
   "metadata": {},
   "outputs": [],
   "source": []
  },
  {
   "cell_type": "code",
   "execution_count": null,
   "id": "13a8ba1a",
   "metadata": {},
   "outputs": [],
   "source": []
  },
  {
   "cell_type": "markdown",
   "id": "15ae7cf7",
   "metadata": {},
   "source": [
    "Bir Liste oluşturun ve c değerine atayın daha sonrasında append metodunu kullanarak ekleme yapın"
   ]
  },
  {
   "cell_type": "code",
   "execution_count": null,
   "id": "04e979e7",
   "metadata": {},
   "outputs": [],
   "source": []
  },
  {
   "cell_type": "code",
   "execution_count": null,
   "id": "3be75bd4",
   "metadata": {},
   "outputs": [],
   "source": []
  },
  {
   "cell_type": "markdown",
   "id": "a58eef1a",
   "metadata": {},
   "source": [
    "Bir Liste oluşturun ve d değerine atayın daha sonrasında pop metodunu kullanarak son indeksi düşürün"
   ]
  },
  {
   "cell_type": "code",
   "execution_count": null,
   "id": "c0157e6a",
   "metadata": {},
   "outputs": [],
   "source": []
  },
  {
   "cell_type": "code",
   "execution_count": null,
   "id": "563ecc12",
   "metadata": {},
   "outputs": [],
   "source": []
  },
  {
   "cell_type": "markdown",
   "id": "547bc796",
   "metadata": {},
   "source": [
    "Bir Liste oluşturun ve e değerine atayın daha sonrasında sort metodunu kullanarak sıralayın"
   ]
  },
  {
   "cell_type": "code",
   "execution_count": null,
   "id": "56d2b7e4",
   "metadata": {},
   "outputs": [],
   "source": []
  },
  {
   "cell_type": "code",
   "execution_count": null,
   "id": "67c851b5",
   "metadata": {},
   "outputs": [],
   "source": []
  },
  {
   "cell_type": "markdown",
   "id": "88c3817a",
   "metadata": {},
   "source": [
    "Bir Liste oluşturun ve e değerine atayın daha sonrasında sort metodunu kullanarak tersten sıralayın"
   ]
  },
  {
   "cell_type": "code",
   "execution_count": null,
   "id": "90d132ca",
   "metadata": {},
   "outputs": [],
   "source": []
  },
  {
   "cell_type": "markdown",
   "id": "27e72301",
   "metadata": {},
   "source": [
    "3 + 4 'nin toplamı 7 'dır çıktısını print fonksiyonunu ve Formatı kullanarak yazdırın"
   ]
  },
  {
   "cell_type": "code",
   "execution_count": null,
   "id": "5ca3bd8a",
   "metadata": {},
   "outputs": [],
   "source": []
  },
  {
   "cell_type": "markdown",
   "id": "0fa40287",
   "metadata": {},
   "source": [
    "Liste Oluşturun"
   ]
  },
  {
   "cell_type": "code",
   "execution_count": null,
   "id": "a6130975",
   "metadata": {},
   "outputs": [],
   "source": []
  },
  {
   "cell_type": "markdown",
   "id": "cd816a23",
   "metadata": {},
   "source": [
    "Tuple oluşturun"
   ]
  },
  {
   "cell_type": "code",
   "execution_count": null,
   "id": "a4676fcf",
   "metadata": {},
   "outputs": [],
   "source": []
  },
  {
   "cell_type": "markdown",
   "id": "0f923c61",
   "metadata": {},
   "source": [
    "Input Fonsiyonu ile kullanıcıdan 2 sayı alın ve bunların toplamını formatlı bir şekilde yazdırın"
   ]
  },
  {
   "cell_type": "code",
   "execution_count": null,
   "id": "380eef85",
   "metadata": {},
   "outputs": [],
   "source": []
  },
  {
   "cell_type": "markdown",
   "id": "eff87d1b",
   "metadata": {},
   "source": [
    "### Karşılaştırma Operatörleri \n",
    "\n",
    "<table class=\"table table-bordered\">\n",
    "<tr>\n",
    "<th style=\"width:10%\">Operatör</th><th style=\"width:45%\">Görevi</th><th>Örnek</th>\n",
    "</tr>\n",
    "<tr>\n",
    "<td>==</td>\n",
    "<td>İki değer birbirine eşitse True, değilse False değer döner.</td>\n",
    "<td> 2 == 2 (True) ,  2 == 3 (False)</td>\n",
    "</tr>\n",
    "<tr>\n",
    "<td>!=</td>\n",
    "<td>İki değer birbirine eşit değilse True, diğer durumda False döner.</td>\n",
    "<td>2 != 2 (False), 2 != 3 (True)</td>\n",
    "</tr>\n",
    "<tr>\n",
    "<td>&gt;</td>\n",
    "<td>Soldaki değer sağdaki değerden büyükse True, değilse False döner. </td>\n",
    "<td> 3 > 2 (True), 2 > 3 (False)</td>\n",
    "</tr>\n",
    "<tr>\n",
    "<td>&lt;</td>\n",
    "<td>Soldaki değer sağdaki değerden küçükse True, değilse False döner.</td>\n",
    "<td> 2 &lt; 3 (True) , 3 &lt; 2 (False) </td>\n",
    "</tr>\n",
    "<tr>\n",
    "<td>&gt;=</td>\n",
    "<td>Soldaki değer sağdaki değerden büyükse veya sağdaki değere eşitse True, değilse False döner.</td>\n",
    "<td> 3 &gt;= 2 (True),3 &gt;= 3 (True) , 2 &gt;= 3 (False)</td>\n",
    "</tr>\n",
    "<tr>\n",
    "<td>&lt;=</td>\n",
    "<td>Soldaki değer sağdaki değerden küçükse veya sağdaki değere eşitse True, değilse False döner.</td>\n",
    "<td> 3 &lt;= 2 (False),3 &lt;= 3 (True) , 2 &lt;= 3 (True) </td>\n",
    "</tr>\n",
    "</table>"
   ]
  },
  {
   "cell_type": "markdown",
   "id": "7b40124a",
   "metadata": {},
   "source": [
    "If ile yaş kontrolü yaparak ehliyet almak için sınava girip giremeceğini ekrana yazdırın"
   ]
  },
  {
   "cell_type": "code",
   "execution_count": null,
   "id": "821f8176",
   "metadata": {},
   "outputs": [],
   "source": []
  },
  {
   "cell_type": "markdown",
   "id": "e42fedd2",
   "metadata": {},
   "source": [
    "Öğrenciden sınavdan kaç puan aldığını öğreniniz. Sonrasında 90-AA,85-Ba,80-BB,75-CB,70-CC,65-DC, 60-dd ve diğer durumlarda kalacak şekilde ayarlayınız. input, if-elif ve else kullanılacak"
   ]
  },
  {
   "cell_type": "code",
   "execution_count": null,
   "id": "3448168a",
   "metadata": {},
   "outputs": [],
   "source": []
  },
  {
   "cell_type": "markdown",
   "id": "3fd50ff5",
   "metadata": {},
   "source": [
    "Bir kullanıcıdan bir sayı alın ve bu sayının pozitif, negatif veya sıfır olduğunu belirleyen bir kod yazın"
   ]
  },
  {
   "cell_type": "code",
   "execution_count": null,
   "id": "eb4b0320",
   "metadata": {},
   "outputs": [],
   "source": []
  },
  {
   "cell_type": "code",
   "execution_count": null,
   "id": "ed5aed67",
   "metadata": {},
   "outputs": [],
   "source": []
  },
  {
   "cell_type": "code",
   "execution_count": null,
   "id": "0ffc7a28",
   "metadata": {},
   "outputs": [],
   "source": []
  },
  {
   "cell_type": "markdown",
   "id": "79a711d5",
   "metadata": {},
   "source": [
    "Önceki konumuzda koşullu durumlarımızla sadece tek bir koşulu kontrol edebiliyorduk. Ancak programlamada bir durum bir çok koşula bağlı olabilir. Örneğin bir hesap makinesi programı yazdığımızda kullanıcının girdiği işlemlere göre koşullarımızı belirleyebiliriz. Bu tür durumlar için if-elif-else kalıplarını kullanırız. Kullanımı şu şekildedir;\n",
    "\n",
    "               if koşul: \n",
    "                   Yapılacak İşlemler\n",
    "               elif başka bir koşul:\n",
    "                   Yapılacak İşlemler\n",
    "               elif başka bir koşul:\n",
    "                   Yapılacak İşlemler\n",
    "                   \n",
    "                    //\n",
    "                    //\n",
    "               else:\n",
    "                   Yapılacak İşlemler \n",
    "Programlarımızda, Kaç tane koşulumuz var ise o kadar elif bloğu oluşturabiliriz. Ayrıca **else** in yazılması zorunlu değildir. if - elif - else kalıplarında, hangi koşul sağlanırsa program o bloğu çalıştırır ve if-elif-blokları sona erer.\n",
    "Şimdi isterseniz kullanıcıya işlem seçtirdiğimiz bir programla , bu kalıbı öğrenmeye başlayalım.\n",
    "\n",
    "\n",
    "                   \n",
    "                  "
   ]
  },
  {
   "cell_type": "code",
   "execution_count": null,
   "id": "0be6fe6f",
   "metadata": {},
   "outputs": [],
   "source": []
  },
  {
   "cell_type": "markdown",
   "id": "18e87ad3",
   "metadata": {},
   "source": [
    "\n",
    "\n",
    "\n",
    "\n",
    "### Karşılaştırma Operatörleri \n",
    "\n",
    "<table class=\"table table-bordered\">\n",
    "<tr>\n",
    "<th style=\"width:10%\">Operatör</th><th style=\"width:45%\">Görevi</th><th>Örnek</th>\n",
    "</tr>\n",
    "<tr>\n",
    "<td>==</td>\n",
    "<td>İki değer birbirine eşitse True, değilse False değer döner.</td>\n",
    "<td> 2 == 2 (True) ,  2 == 3 (False)</td>\n",
    "</tr>\n",
    "<tr>\n",
    "<td>!=</td>\n",
    "<td>İki değer birbirine eşit değilse True, diğer durumda False döner.</td>\n",
    "<td>2 != 2 (False), 2 != 3 (True)</td>\n",
    "</tr>\n",
    "<tr>\n",
    "<td>&gt;</td>\n",
    "<td>Soldaki değer sağdaki değerden büyükse True, değilse False döner. </td>\n",
    "<td> 3 > 2 (True), 2 > 3 (False)</td>\n",
    "</tr>\n",
    "<tr>\n",
    "<td>&lt;</td>\n",
    "<td>Soldaki değer sağdaki değerden küçükse True, değilse False döner.</td>\n",
    "<td> 2 &lt; 3 (True) , 3 &lt; 2 (False) </td>\n",
    "</tr>\n",
    "<tr>\n",
    "<td>&gt;=</td>\n",
    "<td>Soldaki değer sağdaki değerden büyükse veya sağdaki değere eşitse True, değilse False döner.</td>\n",
    "<td> 3 &gt;= 2 (True),3 &gt;= 3 (True) , 2 &gt;= 3 (False)</td>\n",
    "</tr>\n",
    "<tr>\n",
    "<td>&lt;=</td>\n",
    "<td>Soldaki değer sağdaki değerden küçükse veya sağdaki değere eşitse True, değilse False döner.</td>\n",
    "<td> 3 &lt;= 2 (False),3 &lt;= 3 (True) , 2 &lt;= 3 (True) </td>\n",
    "</tr>\n",
    "</table>\n",
    "\n",
    "If ile yaş kontrolü yaparak ehliyet almak için sınava girip giremeceğini ekrana yazdırın\n",
    "\n",
    "\n",
    "\n",
    "Öğrenciden sınavdan kaç puan aldığını öğreniniz. Sonrasında 90-AA,85-Ba,80-BB,75-CB,70-CC,65-DC, 60-dd ve diğer durumlarda kalacak şekilde ayarlayınız. input, if-elif ve else kullanılacak\n",
    "\n",
    "\n",
    "\n",
    "Bir kullanıcıdan bir sayı alın ve bu sayının pozitif, negatif veya sıfır olduğunu belirleyen bir kod yazın\n",
    "\n",
    "\n",
    "\n",
    "\n",
    "\n",
    "\n",
    "\n",
    "Önceki konumuzda koşullu durumlarımızla sadece tek bir koşulu kontrol edebiliyorduk. Ancak programlamada bir durum bir çok koşula bağlı olabilir. Örneğin bir hesap makinesi programı yazdığımızda kullanıcının girdiği işlemlere göre koşullarımızı belirleyebiliriz. Bu tür durumlar için if-elif-else kalıplarını kullanırız. Kullanımı şu şekildedir;\n",
    "\n",
    "               if koşul: \n",
    "                   Yapılacak İşlemler\n",
    "               elif başka bir koşul:\n",
    "                   Yapılacak İşlemler\n",
    "               elif başka bir koşul:\n",
    "                   Yapılacak İşlemler\n",
    "                   \n",
    "                    //\n",
    "                    //\n",
    "               else:\n",
    "                   Yapılacak İşlemler \n",
    "Programlarımızda, Kaç tane koşulumuz var ise o kadar elif bloğu oluşturabiliriz. Ayrıca **else** in yazılması zorunlu değildir. if - elif - else kalıplarında, hangi koşul sağlanırsa program o bloğu çalıştırır ve if-elif-blokları sona erer.\n",
    "Şimdi isterseniz kullanıcıya işlem seçtirdiğimiz bir programla , bu kalıbı öğrenmeye başlayalım.\n",
    "\n",
    "\n",
    "                   \n",
    "                  \n",
    "\n"
   ]
  },
  {
   "cell_type": "code",
   "execution_count": null,
   "id": "4f6ea76f",
   "metadata": {},
   "outputs": [],
   "source": []
  },
  {
   "cell_type": "markdown",
   "id": "e35bf645",
   "metadata": {},
   "source": [
    "Bir Liste Oluşturun ve For Döngüsü ile liste içerisinde gezinin ve print fonksiyonu ile ekrana yazdırın"
   ]
  },
  {
   "cell_type": "code",
   "execution_count": null,
   "id": "6721c00e",
   "metadata": {},
   "outputs": [],
   "source": []
  },
  {
   "cell_type": "markdown",
   "id": "45825427",
   "metadata": {},
   "source": [
    "Bir liste oluşturun ve listenin elemanlarını toplayın"
   ]
  },
  {
   "cell_type": "code",
   "execution_count": null,
   "id": "6e02501a",
   "metadata": {},
   "outputs": [],
   "source": []
  },
  {
   "cell_type": "markdown",
   "id": "a69260d9",
   "metadata": {},
   "source": [
    "Bir Liste Oluşturun ve Listedeki çift elemanları ekrana yazdırın"
   ]
  },
  {
   "cell_type": "code",
   "execution_count": null,
   "id": "e8a0e8f4",
   "metadata": {},
   "outputs": [],
   "source": []
  },
  {
   "cell_type": "markdown",
   "id": "28973a79",
   "metadata": {},
   "source": [
    "Basit bir While döngüsü oluşturun"
   ]
  },
  {
   "cell_type": "code",
   "execution_count": null,
   "id": "76c108bd",
   "metadata": {},
   "outputs": [],
   "source": []
  },
  {
   "cell_type": "code",
   "execution_count": null,
   "id": "cda3ed18",
   "metadata": {},
   "outputs": [],
   "source": []
  },
  {
   "cell_type": "markdown",
   "id": "46a15118",
   "metadata": {},
   "source": [
    "20 ye kadar gidecek şekilde while döngüsü oluşturun ancak 2'şer atlayarak gitsin"
   ]
  },
  {
   "cell_type": "code",
   "execution_count": null,
   "id": "63243cc0",
   "metadata": {},
   "outputs": [],
   "source": []
  },
  {
   "cell_type": "markdown",
   "id": "45e69b4b",
   "metadata": {},
   "source": [
    "While döngüsü ile ekrana 20 kere Nesne Yönelimli Programlama yazdırın"
   ]
  },
  {
   "cell_type": "code",
   "execution_count": null,
   "id": "06533f4b",
   "metadata": {},
   "outputs": [],
   "source": []
  },
  {
   "cell_type": "markdown",
   "id": "c0e57433",
   "metadata": {},
   "source": [
    "For döngüsü yazın ancak range i kullanın"
   ]
  },
  {
   "cell_type": "code",
   "execution_count": null,
   "id": "bf1538f8",
   "metadata": {},
   "outputs": [],
   "source": []
  },
  {
   "cell_type": "markdown",
   "id": "d9f40636",
   "metadata": {},
   "source": [
    "Break komutunu kullanarak while döngüsü yazın. Koşul= 10 olduğunda döngü sonlansın"
   ]
  },
  {
   "cell_type": "code",
   "execution_count": null,
   "id": "5c00ddce",
   "metadata": {},
   "outputs": [],
   "source": []
  },
  {
   "cell_type": "markdown",
   "id": "3e24bace",
   "metadata": {},
   "source": [
    "For döngüsü ile break ifadesini kullanın. Koşul= 5 olduğunda döngü bitecek. Önce liste oluşturun, sonra for dönüsünü yazın ve if ile koşulunuzu belirtin"
   ]
  },
  {
   "cell_type": "code",
   "execution_count": null,
   "id": "8a5b79ee",
   "metadata": {},
   "outputs": [],
   "source": []
  },
  {
   "cell_type": "markdown",
   "id": "5b6820ce",
   "metadata": {},
   "source": [
    "10 a kadar bir liste oluşturun ve for dönügüsü yazarak içerisinde gezmesini sağlayın devamında 3 ve 5 olduğunda atlamasını sağlayın. Önce liste oluşturulacak, for dönügüsü yazılacak ve continue ile atlanması sağlanacak"
   ]
  },
  {
   "cell_type": "code",
   "execution_count": null,
   "id": "9d6aefa2",
   "metadata": {},
   "outputs": [],
   "source": []
  },
  {
   "cell_type": "code",
   "execution_count": null,
   "id": "89e588b9",
   "metadata": {},
   "outputs": [],
   "source": []
  },
  {
   "cell_type": "code",
   "execution_count": null,
   "id": "a2a4cdbc",
   "metadata": {},
   "outputs": [],
   "source": []
  },
  {
   "cell_type": "code",
   "execution_count": null,
   "id": "15d0c8c9",
   "metadata": {},
   "outputs": [],
   "source": []
  },
  {
   "cell_type": "code",
   "execution_count": null,
   "id": "9fe33b67",
   "metadata": {},
   "outputs": [],
   "source": []
  },
  {
   "cell_type": "code",
   "execution_count": null,
   "id": "a9ac80ab",
   "metadata": {},
   "outputs": [],
   "source": []
  },
  {
   "cell_type": "code",
   "execution_count": null,
   "id": "1a5d5ceb",
   "metadata": {},
   "outputs": [],
   "source": []
  },
  {
   "cell_type": "markdown",
   "id": "80d423cf",
   "metadata": {},
   "source": [
    "Her bir while döngüsünde kullanıcıdan bir sayı alın ve kullanıcının girdiği sayıları \"toplam\" isimli bir değişkene ekleyin. Kullanıcı \"q\" tuşuna bastığı zaman döngüyü sonlandırın ve ekrana \"toplam değişkenini\" bastırın.\n"
   ]
  },
  {
   "cell_type": "code",
   "execution_count": null,
   "id": "6c5c7505",
   "metadata": {},
   "outputs": [],
   "source": []
  },
  {
   "cell_type": "markdown",
   "id": "448f4ab0",
   "metadata": {},
   "source": [
    "\n",
    "1'den 10'kadar olan sayılarla ekrana çarpım tablosu bastırmaya çalışın.\n",
    "\n",
    "***İpucu: İç içe 2 tane for döngüsü kullanın. Aynı zamanda sayıları range() fonksiyonunu kullanarak elde edin.***"
   ]
  },
  {
   "cell_type": "code",
   "execution_count": null,
   "id": "13412b90",
   "metadata": {},
   "outputs": [],
   "source": []
  },
  {
   "cell_type": "code",
   "execution_count": null,
   "id": "10296503",
   "metadata": {},
   "outputs": [],
   "source": []
  },
  {
   "cell_type": "code",
   "execution_count": null,
   "id": "b0498bc0",
   "metadata": {},
   "outputs": [],
   "source": []
  },
  {
   "cell_type": "code",
   "execution_count": null,
   "id": "ebb6e609",
   "metadata": {},
   "outputs": [],
   "source": []
  },
  {
   "cell_type": "code",
   "execution_count": null,
   "id": "b1893922",
   "metadata": {},
   "outputs": [],
   "source": []
  },
  {
   "cell_type": "code",
   "execution_count": null,
   "id": "971935f9",
   "metadata": {},
   "outputs": [],
   "source": []
  },
  {
   "cell_type": "code",
   "execution_count": null,
   "id": "acf58109",
   "metadata": {},
   "outputs": [],
   "source": []
  },
  {
   "cell_type": "code",
   "execution_count": null,
   "id": "e49e9b03",
   "metadata": {},
   "outputs": [],
   "source": []
  }
 ],
 "metadata": {
  "kernelspec": {
   "display_name": "Python 3 (ipykernel)",
   "language": "python",
   "name": "python3"
  },
  "language_info": {
   "codemirror_mode": {
    "name": "ipython",
    "version": 3
   },
   "file_extension": ".py",
   "mimetype": "text/x-python",
   "name": "python",
   "nbconvert_exporter": "python",
   "pygments_lexer": "ipython3",
   "version": "3.9.12"
  }
 },
 "nbformat": 4,
 "nbformat_minor": 5
}
