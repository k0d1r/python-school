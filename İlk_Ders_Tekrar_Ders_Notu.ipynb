{
 "cells": [
  {
   "cell_type": "markdown",
   "id": "d63a0d9c",
   "metadata": {},
   "source": [
    "String Bir İfade Giriniz ve a değerine Atayınız"
   ]
  },
  {
   "cell_type": "code",
   "execution_count": null,
   "id": "d3ff4254",
   "metadata": {},
   "outputs": [],
   "source": []
  },
  {
   "cell_type": "markdown",
   "id": "9792bc51",
   "metadata": {},
   "source": [
    "Girdiğiniz String İfadenin Tipini Öğrenin"
   ]
  },
  {
   "cell_type": "code",
   "execution_count": null,
   "id": "e47648d4",
   "metadata": {},
   "outputs": [],
   "source": []
  },
  {
   "cell_type": "markdown",
   "id": "9ca9ec1f",
   "metadata": {},
   "source": [
    "Float Bir İfade Girin ve b değerine Atayınız"
   ]
  },
  {
   "cell_type": "code",
   "execution_count": null,
   "id": "e05c6777",
   "metadata": {},
   "outputs": [],
   "source": []
  },
  {
   "cell_type": "markdown",
   "id": "a1c8ff97",
   "metadata": {},
   "source": [
    "Girdiğiniz Float İfadenin Tipini Öğrenin"
   ]
  },
  {
   "cell_type": "code",
   "execution_count": null,
   "id": "3db19680",
   "metadata": {},
   "outputs": [],
   "source": []
  },
  {
   "cell_type": "markdown",
   "id": "84f1cb7b",
   "metadata": {},
   "source": [
    "İnteger Bir İfade Giriniz ve c değerine Atayınız"
   ]
  },
  {
   "cell_type": "code",
   "execution_count": null,
   "id": "02959df7",
   "metadata": {},
   "outputs": [],
   "source": []
  },
  {
   "cell_type": "markdown",
   "id": "b0124104",
   "metadata": {},
   "source": [
    "Girdiğiniz İnteger İfadenin Tipini Öğrenin"
   ]
  },
  {
   "cell_type": "code",
   "execution_count": 6,
   "id": "b3328452",
   "metadata": {},
   "outputs": [],
   "source": []
  },
  {
   "cell_type": "markdown",
   "id": "aae4be8e",
   "metadata": {},
   "source": [
    "Bir Liste Oluşturun ve d değerine atayın"
   ]
  },
  {
   "cell_type": "code",
   "execution_count": null,
   "id": "51d53d2d",
   "metadata": {},
   "outputs": [],
   "source": []
  },
  {
   "cell_type": "markdown",
   "id": "f8b6560e",
   "metadata": {},
   "source": [
    "listeyi print fonksiyonunu kullanarak yazdırın"
   ]
  },
  {
   "cell_type": "code",
   "execution_count": null,
   "id": "7bdee07d",
   "metadata": {},
   "outputs": [],
   "source": []
  },
  {
   "cell_type": "markdown",
   "id": "5cb3a239",
   "metadata": {},
   "source": [
    "Bir Tuple(Demet) oluşturun"
   ]
  },
  {
   "cell_type": "code",
   "execution_count": null,
   "id": "174029c1",
   "metadata": {},
   "outputs": [],
   "source": []
  },
  {
   "cell_type": "markdown",
   "id": "853e2b52",
   "metadata": {},
   "source": [
    "Oluşturduğunuz Tuple'ı Print fonksiyonu ile yazdırın"
   ]
  },
  {
   "cell_type": "code",
   "execution_count": null,
   "id": "3a1618c2",
   "metadata": {},
   "outputs": [],
   "source": []
  },
  {
   "cell_type": "markdown",
   "id": "ef17d4eb",
   "metadata": {},
   "source": [
    "Bİr String oluşturun ve a değerine atayın daha sonrasında ilk indexine Ulaşın"
   ]
  },
  {
   "cell_type": "code",
   "execution_count": null,
   "id": "e3757a0c",
   "metadata": {},
   "outputs": [],
   "source": []
  },
  {
   "cell_type": "code",
   "execution_count": null,
   "id": "e39c47af",
   "metadata": {},
   "outputs": [],
   "source": []
  },
  {
   "cell_type": "markdown",
   "id": "8a187d80",
   "metadata": {},
   "source": [
    "Bİr String oluşturun ve a değerine atayın daha sonrasında son indexine Ulaşın"
   ]
  },
  {
   "cell_type": "code",
   "execution_count": null,
   "id": "7abf067f",
   "metadata": {},
   "outputs": [],
   "source": []
  },
  {
   "cell_type": "code",
   "execution_count": null,
   "id": "c509e64d",
   "metadata": {},
   "outputs": [],
   "source": []
  },
  {
   "cell_type": "markdown",
   "id": "e2bceb52",
   "metadata": {},
   "source": [
    "Bİr String oluşturun ve a değerine atayın daha sonrasında 4. indexten başlayacak şekilde son indexine Ulaşın"
   ]
  },
  {
   "cell_type": "code",
   "execution_count": null,
   "id": "051c0d10",
   "metadata": {},
   "outputs": [],
   "source": []
  },
  {
   "cell_type": "code",
   "execution_count": null,
   "id": "165484ad",
   "metadata": {},
   "outputs": [],
   "source": []
  },
  {
   "cell_type": "markdown",
   "id": "10057736",
   "metadata": {},
   "source": [
    "Bİr String oluşturun ve a değerine atayın daha sonrasında String'in Uzunluğunu Bulun"
   ]
  },
  {
   "cell_type": "code",
   "execution_count": null,
   "id": "0c8cce94",
   "metadata": {},
   "outputs": [],
   "source": []
  },
  {
   "cell_type": "code",
   "execution_count": null,
   "id": "e0b4189e",
   "metadata": {},
   "outputs": [],
   "source": []
  },
  {
   "cell_type": "markdown",
   "id": "d25eb9d4",
   "metadata": {},
   "source": [
    "Bİr İnterger oluşturun ve a değerine atayın daha sonrasında Float İfadeye Çevirin"
   ]
  },
  {
   "cell_type": "code",
   "execution_count": null,
   "id": "c281dadf",
   "metadata": {},
   "outputs": [],
   "source": []
  },
  {
   "cell_type": "code",
   "execution_count": null,
   "id": "e18784b4",
   "metadata": {},
   "outputs": [],
   "source": []
  },
  {
   "cell_type": "markdown",
   "id": "5d89073a",
   "metadata": {},
   "source": [
    "Bİr Float oluşturun ve a değerine atayın daha sonrasında int' e çevirin"
   ]
  },
  {
   "cell_type": "code",
   "execution_count": null,
   "id": "a6069970",
   "metadata": {},
   "outputs": [],
   "source": []
  },
  {
   "cell_type": "code",
   "execution_count": null,
   "id": "223ce1c0",
   "metadata": {},
   "outputs": [],
   "source": []
  },
  {
   "cell_type": "markdown",
   "id": "ec00156c",
   "metadata": {},
   "source": [
    "Print fonksiyonunu kullanın ve print fonksiyonunun içine int,float ve str ifadeler ekleyip ekrana yazdırın"
   ]
  },
  {
   "cell_type": "code",
   "execution_count": null,
   "id": "006af153",
   "metadata": {},
   "outputs": [],
   "source": []
  },
  {
   "cell_type": "code",
   "execution_count": null,
   "id": "b86bd2e9",
   "metadata": {},
   "outputs": [],
   "source": []
  },
  {
   "cell_type": "markdown",
   "id": "6efd4626",
   "metadata": {},
   "source": [
    "Print fonksiyonunu kullanın ve print fonksiyonunun içine str ifadeler ekleyip alt alta yazdırın"
   ]
  },
  {
   "cell_type": "code",
   "execution_count": null,
   "id": "257b9223",
   "metadata": {},
   "outputs": [],
   "source": []
  },
  {
   "cell_type": "code",
   "execution_count": null,
   "id": "76e64efc",
   "metadata": {},
   "outputs": [],
   "source": []
  },
  {
   "cell_type": "markdown",
   "id": "4deb051d",
   "metadata": {},
   "source": [
    "Print fonksiyonunu kullanın ve print fonksiyonunun içine str ifadeler ekleyip aralarında boşluk bırakarak yazdırın"
   ]
  },
  {
   "cell_type": "code",
   "execution_count": null,
   "id": "aacb2855",
   "metadata": {},
   "outputs": [],
   "source": []
  },
  {
   "cell_type": "code",
   "execution_count": null,
   "id": "c2416201",
   "metadata": {},
   "outputs": [],
   "source": []
  },
  {
   "cell_type": "markdown",
   "id": "e479dd76",
   "metadata": {},
   "source": [
    "Print fonksiyonunu kullanın ve print fonksiyonunun içine int ifadeler ekleyip sep parametresi ile str ifadelerin arasına gelecek . / gibi işaretleri belirleyin"
   ]
  },
  {
   "cell_type": "code",
   "execution_count": null,
   "id": "c6257c0f",
   "metadata": {},
   "outputs": [],
   "source": []
  },
  {
   "cell_type": "code",
   "execution_count": null,
   "id": "04b60028",
   "metadata": {},
   "outputs": [],
   "source": []
  },
  {
   "cell_type": "markdown",
   "id": "f1fcfb11",
   "metadata": {},
   "source": [
    "\"3 + 4 'nin toplamı 7 'dır\" ifadesinin formatlı bir şekilde yazılmasını sağlayın"
   ]
  },
  {
   "cell_type": "code",
   "execution_count": null,
   "id": "2776f0a9",
   "metadata": {},
   "outputs": [],
   "source": []
  },
  {
   "cell_type": "code",
   "execution_count": null,
   "id": "4b173f37",
   "metadata": {},
   "outputs": [],
   "source": []
  },
  {
   "cell_type": "markdown",
   "id": "19987dc3",
   "metadata": {},
   "source": [
    "Bir Liste oluşturun ve a değerine atayın daha sonrasında ilk indeksine ulaşın"
   ]
  },
  {
   "cell_type": "code",
   "execution_count": null,
   "id": "e2da974e",
   "metadata": {},
   "outputs": [],
   "source": []
  },
  {
   "cell_type": "code",
   "execution_count": null,
   "id": "3cecf944",
   "metadata": {},
   "outputs": [],
   "source": []
  },
  {
   "cell_type": "markdown",
   "id": "f8bf608c",
   "metadata": {},
   "source": [
    "Bir Liste oluşturun ve b değerine atayın daha sonrasında baştan başlayacak şekilde 2. indekse kadar yazdırın"
   ]
  },
  {
   "cell_type": "code",
   "execution_count": null,
   "id": "ee1d822d",
   "metadata": {},
   "outputs": [],
   "source": []
  },
  {
   "cell_type": "code",
   "execution_count": null,
   "id": "13a8ba1a",
   "metadata": {},
   "outputs": [],
   "source": []
  },
  {
   "cell_type": "markdown",
   "id": "15ae7cf7",
   "metadata": {},
   "source": [
    "Bir Liste oluşturun ve c değerine atayın daha sonrasında append metodunu kullanarak ekleme yapın"
   ]
  },
  {
   "cell_type": "code",
   "execution_count": null,
   "id": "04e979e7",
   "metadata": {},
   "outputs": [],
   "source": []
  },
  {
   "cell_type": "code",
   "execution_count": null,
   "id": "3be75bd4",
   "metadata": {},
   "outputs": [],
   "source": []
  },
  {
   "cell_type": "markdown",
   "id": "a58eef1a",
   "metadata": {},
   "source": [
    "Bir Liste oluşturun ve d değerine atayın daha sonrasında pop metodunu kullanarak son indeksi düşürün"
   ]
  },
  {
   "cell_type": "code",
   "execution_count": null,
   "id": "c0157e6a",
   "metadata": {},
   "outputs": [],
   "source": []
  },
  {
   "cell_type": "code",
   "execution_count": null,
   "id": "563ecc12",
   "metadata": {},
   "outputs": [],
   "source": []
  },
  {
   "cell_type": "markdown",
   "id": "547bc796",
   "metadata": {},
   "source": [
    "Bir Liste oluşturun ve e değerine atayın daha sonrasında insert metodunu kullanarak sıralayın"
   ]
  },
  {
   "cell_type": "code",
   "execution_count": null,
   "id": "56d2b7e4",
   "metadata": {},
   "outputs": [],
   "source": []
  },
  {
   "cell_type": "code",
   "execution_count": null,
   "id": "67c851b5",
   "metadata": {},
   "outputs": [],
   "source": []
  },
  {
   "cell_type": "markdown",
   "id": "88c3817a",
   "metadata": {},
   "source": [
    "Bir Liste oluşturun ve e değerine atayın daha sonrasında insert metodunu kullanarak tersten sıralayın"
   ]
  },
  {
   "cell_type": "code",
   "execution_count": null,
   "id": "90d132ca",
   "metadata": {},
   "outputs": [],
   "source": []
  },
  {
   "cell_type": "code",
   "execution_count": null,
   "id": "cee2a898",
   "metadata": {},
   "outputs": [],
   "source": []
  },
  {
   "cell_type": "code",
   "execution_count": null,
   "id": "619e50d9",
   "metadata": {},
   "outputs": [],
   "source": []
  },
  {
   "cell_type": "code",
   "execution_count": null,
   "id": "6c04a441",
   "metadata": {},
   "outputs": [],
   "source": []
  },
  {
   "cell_type": "code",
   "execution_count": null,
   "id": "b8ba061c",
   "metadata": {},
   "outputs": [],
   "source": []
  },
  {
   "cell_type": "code",
   "execution_count": null,
   "id": "2ac715e4",
   "metadata": {},
   "outputs": [],
   "source": []
  },
  {
   "cell_type": "code",
   "execution_count": null,
   "id": "688ea348",
   "metadata": {},
   "outputs": [],
   "source": []
  },
  {
   "cell_type": "code",
   "execution_count": null,
   "id": "f2caadaf",
   "metadata": {},
   "outputs": [],
   "source": []
  },
  {
   "cell_type": "code",
   "execution_count": null,
   "id": "fe91a8e5",
   "metadata": {},
   "outputs": [],
   "source": []
  },
  {
   "cell_type": "code",
   "execution_count": null,
   "id": "535a61d5",
   "metadata": {},
   "outputs": [],
   "source": []
  },
  {
   "cell_type": "code",
   "execution_count": null,
   "id": "c769c192",
   "metadata": {},
   "outputs": [],
   "source": []
  },
  {
   "cell_type": "code",
   "execution_count": null,
   "id": "0beffe1e",
   "metadata": {},
   "outputs": [],
   "source": []
  }
 ],
 "metadata": {
  "kernelspec": {
   "display_name": "Python 3 (ipykernel)",
   "language": "python",
   "name": "python3"
  },
  "language_info": {
   "codemirror_mode": {
    "name": "ipython",
    "version": 3
   },
   "file_extension": ".py",
   "mimetype": "text/x-python",
   "name": "python",
   "nbconvert_exporter": "python",
   "pygments_lexer": "ipython3",
   "version": "3.9.12"
  }
 },
 "nbformat": 4,
 "nbformat_minor": 5
}
