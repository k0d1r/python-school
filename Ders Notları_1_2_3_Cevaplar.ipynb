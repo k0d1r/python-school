{
 "cells": [
  {
   "cell_type": "markdown",
   "id": "d63a0d9c",
   "metadata": {},
   "source": [
    "String Bir İfade Giriniz ve a değerine Atayınız"
   ]
  },
  {
   "cell_type": "code",
   "execution_count": 2,
   "id": "d3ff4254",
   "metadata": {},
   "outputs": [],
   "source": [
    "a=\"1\""
   ]
  },
  {
   "cell_type": "markdown",
   "id": "9792bc51",
   "metadata": {},
   "source": [
    "Girdiğiniz String İfadenin Tipini Öğrenin"
   ]
  },
  {
   "cell_type": "code",
   "execution_count": 3,
   "id": "e47648d4",
   "metadata": {},
   "outputs": [
    {
     "data": {
      "text/plain": [
       "str"
      ]
     },
     "execution_count": 3,
     "metadata": {},
     "output_type": "execute_result"
    }
   ],
   "source": [
    "type(a)"
   ]
  },
  {
   "cell_type": "markdown",
   "id": "9ca9ec1f",
   "metadata": {},
   "source": [
    "Float Bir İfade Girin ve b değerine Atayınız"
   ]
  },
  {
   "cell_type": "code",
   "execution_count": 4,
   "id": "e05c6777",
   "metadata": {},
   "outputs": [],
   "source": [
    "b=1.2"
   ]
  },
  {
   "cell_type": "markdown",
   "id": "a1c8ff97",
   "metadata": {},
   "source": [
    "Girdiğiniz Float İfadenin Tipini Öğrenin"
   ]
  },
  {
   "cell_type": "code",
   "execution_count": 5,
   "id": "3db19680",
   "metadata": {},
   "outputs": [
    {
     "data": {
      "text/plain": [
       "float"
      ]
     },
     "execution_count": 5,
     "metadata": {},
     "output_type": "execute_result"
    }
   ],
   "source": [
    "type(b)"
   ]
  },
  {
   "cell_type": "markdown",
   "id": "84f1cb7b",
   "metadata": {},
   "source": [
    "İnteger Bir İfade Giriniz ve c değerine Atayınız"
   ]
  },
  {
   "cell_type": "code",
   "execution_count": 6,
   "id": "02959df7",
   "metadata": {},
   "outputs": [],
   "source": [
    "c=1"
   ]
  },
  {
   "cell_type": "markdown",
   "id": "b0124104",
   "metadata": {},
   "source": [
    "Girdiğiniz İnteger İfadenin Tipini Öğrenin"
   ]
  },
  {
   "cell_type": "code",
   "execution_count": 7,
   "id": "b3328452",
   "metadata": {},
   "outputs": [
    {
     "data": {
      "text/plain": [
       "int"
      ]
     },
     "execution_count": 7,
     "metadata": {},
     "output_type": "execute_result"
    }
   ],
   "source": [
    "type(c)"
   ]
  },
  {
   "cell_type": "markdown",
   "id": "aae4be8e",
   "metadata": {},
   "source": [
    "Bir Liste Oluşturun ve d değerine atayın"
   ]
  },
  {
   "cell_type": "code",
   "execution_count": 8,
   "id": "51d53d2d",
   "metadata": {},
   "outputs": [],
   "source": [
    "d=[1,2,3,\"a\",\"b\",1.2]"
   ]
  },
  {
   "cell_type": "markdown",
   "id": "f8b6560e",
   "metadata": {},
   "source": [
    "listeyi print fonksiyonunu kullanarak yazdırın"
   ]
  },
  {
   "cell_type": "code",
   "execution_count": 9,
   "id": "7bdee07d",
   "metadata": {},
   "outputs": [
    {
     "name": "stdout",
     "output_type": "stream",
     "text": [
      "[1, 2, 3, 'a', 'b', 1.2]\n"
     ]
    }
   ],
   "source": [
    "print(d)"
   ]
  },
  {
   "cell_type": "markdown",
   "id": "5cb3a239",
   "metadata": {},
   "source": [
    "Bir Tuple(Demet) oluşturun"
   ]
  },
  {
   "cell_type": "code",
   "execution_count": 10,
   "id": "174029c1",
   "metadata": {},
   "outputs": [],
   "source": [
    "e=(1,2,3)"
   ]
  },
  {
   "cell_type": "markdown",
   "id": "853e2b52",
   "metadata": {},
   "source": [
    "Oluşturduğunuz Tuple'ı Print fonksiyonu ile yazdırın"
   ]
  },
  {
   "cell_type": "code",
   "execution_count": 11,
   "id": "3a1618c2",
   "metadata": {},
   "outputs": [
    {
     "name": "stdout",
     "output_type": "stream",
     "text": [
      "(1, 2, 3)\n"
     ]
    }
   ],
   "source": [
    "print(e)"
   ]
  },
  {
   "cell_type": "markdown",
   "id": "ef17d4eb",
   "metadata": {},
   "source": [
    "Bİr String oluşturun ve a değerine atayın daha sonrasında ilk indexine Ulaşın"
   ]
  },
  {
   "cell_type": "code",
   "execution_count": 16,
   "id": "e3757a0c",
   "metadata": {},
   "outputs": [
    {
     "data": {
      "text/plain": [
       "'N'"
      ]
     },
     "execution_count": 16,
     "metadata": {},
     "output_type": "execute_result"
    }
   ],
   "source": [
    "a = \"NESNEYÖNELİMLİPROGRAMLAMA\"\n",
    "a[0]\n"
   ]
  },
  {
   "cell_type": "code",
   "execution_count": null,
   "id": "e39c47af",
   "metadata": {},
   "outputs": [],
   "source": []
  },
  {
   "cell_type": "markdown",
   "id": "8a187d80",
   "metadata": {},
   "source": [
    "Bİr String oluşturun ve a değerine atayın daha sonrasında son indexine Ulaşın"
   ]
  },
  {
   "cell_type": "code",
   "execution_count": 17,
   "id": "7abf067f",
   "metadata": {},
   "outputs": [
    {
     "data": {
      "text/plain": [
       "'A'"
      ]
     },
     "execution_count": 17,
     "metadata": {},
     "output_type": "execute_result"
    }
   ],
   "source": [
    "a[-1]\n"
   ]
  },
  {
   "cell_type": "code",
   "execution_count": null,
   "id": "c509e64d",
   "metadata": {},
   "outputs": [],
   "source": []
  },
  {
   "cell_type": "markdown",
   "id": "e2bceb52",
   "metadata": {},
   "source": [
    "Bİr String oluşturun ve a değerine atayın daha sonrasında 4. indexten başlayacak şekilde son indexine Ulaşın"
   ]
  },
  {
   "cell_type": "code",
   "execution_count": 18,
   "id": "051c0d10",
   "metadata": {},
   "outputs": [
    {
     "data": {
      "text/plain": [
       "'EYÖNELİMLİPROGRAMLAMA'"
      ]
     },
     "execution_count": 18,
     "metadata": {},
     "output_type": "execute_result"
    }
   ],
   "source": [
    "a[4:]\n"
   ]
  },
  {
   "cell_type": "code",
   "execution_count": null,
   "id": "165484ad",
   "metadata": {},
   "outputs": [],
   "source": []
  },
  {
   "cell_type": "markdown",
   "id": "10057736",
   "metadata": {},
   "source": [
    "Bİr String oluşturun ve a değerine atayın daha sonrasında String'in Uzunluğunu Bulun"
   ]
  },
  {
   "cell_type": "code",
   "execution_count": 19,
   "id": "0c8cce94",
   "metadata": {},
   "outputs": [
    {
     "data": {
      "text/plain": [
       "25"
      ]
     },
     "execution_count": 19,
     "metadata": {},
     "output_type": "execute_result"
    }
   ],
   "source": [
    "len(a)"
   ]
  },
  {
   "cell_type": "code",
   "execution_count": null,
   "id": "e0b4189e",
   "metadata": {},
   "outputs": [],
   "source": []
  },
  {
   "cell_type": "markdown",
   "id": "d25eb9d4",
   "metadata": {},
   "source": [
    "Bİr İnterger oluşturun ve a değerine atayın daha sonrasında Float İfadeye Çevirin"
   ]
  },
  {
   "cell_type": "code",
   "execution_count": 20,
   "id": "c281dadf",
   "metadata": {},
   "outputs": [],
   "source": [
    "a=25"
   ]
  },
  {
   "cell_type": "code",
   "execution_count": 21,
   "id": "e18784b4",
   "metadata": {},
   "outputs": [
    {
     "data": {
      "text/plain": [
       "25.0"
      ]
     },
     "execution_count": 21,
     "metadata": {},
     "output_type": "execute_result"
    }
   ],
   "source": [
    "float(a)"
   ]
  },
  {
   "cell_type": "markdown",
   "id": "5d89073a",
   "metadata": {},
   "source": [
    "Bİr Float oluşturun ve a değerine atayın daha sonrasında int' e çevirin"
   ]
  },
  {
   "cell_type": "code",
   "execution_count": 22,
   "id": "a6069970",
   "metadata": {},
   "outputs": [],
   "source": [
    "a=25.5"
   ]
  },
  {
   "cell_type": "code",
   "execution_count": 23,
   "id": "223ce1c0",
   "metadata": {},
   "outputs": [
    {
     "data": {
      "text/plain": [
       "25"
      ]
     },
     "execution_count": 23,
     "metadata": {},
     "output_type": "execute_result"
    }
   ],
   "source": [
    "int(a)"
   ]
  },
  {
   "cell_type": "markdown",
   "id": "ec00156c",
   "metadata": {},
   "source": [
    "Print fonksiyonunu kullanın ve print fonksiyonunun içine int,float ve str ifadeler ekleyip ekrana yazdırın"
   ]
  },
  {
   "cell_type": "code",
   "execution_count": 24,
   "id": "006af153",
   "metadata": {},
   "outputs": [],
   "source": [
    "d=[1,2,3,\"a\",\"b\",1.2]"
   ]
  },
  {
   "cell_type": "code",
   "execution_count": null,
   "id": "b86bd2e9",
   "metadata": {},
   "outputs": [],
   "source": []
  },
  {
   "cell_type": "markdown",
   "id": "6efd4626",
   "metadata": {},
   "source": [
    "Print fonksiyonunu kullanın ve print fonksiyonunun içine str ifadeler ekleyip alt alta yazdırın"
   ]
  },
  {
   "cell_type": "code",
   "execution_count": 25,
   "id": "257b9223",
   "metadata": {},
   "outputs": [
    {
     "name": "stdout",
     "output_type": "stream",
     "text": [
      "Nesne\n",
      "Yönelimli\n",
      "Programlama\n"
     ]
    }
   ],
   "source": [
    "print(\"Nesne\",\"Yönelimli\",\"Programlama\",sep = \"\\n\")"
   ]
  },
  {
   "cell_type": "code",
   "execution_count": null,
   "id": "76e64efc",
   "metadata": {},
   "outputs": [],
   "source": []
  },
  {
   "cell_type": "markdown",
   "id": "4deb051d",
   "metadata": {},
   "source": [
    "Print fonksiyonunu kullanın ve print fonksiyonunun içine str ifadeler ekleyip aralarında boşluk bırakarak yazdırın"
   ]
  },
  {
   "cell_type": "code",
   "execution_count": 26,
   "id": "aacb2855",
   "metadata": {},
   "outputs": [
    {
     "name": "stdout",
     "output_type": "stream",
     "text": [
      "Ocak\tMart\tŞubat\n"
     ]
    }
   ],
   "source": [
    "print(\"Ocak\\tMart\\tŞubat\")"
   ]
  },
  {
   "cell_type": "code",
   "execution_count": 28,
   "id": "c2416201",
   "metadata": {},
   "outputs": [
    {
     "name": "stdout",
     "output_type": "stream",
     "text": [
      "06/04/2015\n"
     ]
    }
   ],
   "source": [
    "print(\"06\",\"04\",\"2015\",sep = \"/\")"
   ]
  },
  {
   "cell_type": "markdown",
   "id": "e479dd76",
   "metadata": {},
   "source": [
    "Print fonksiyonunu kullanın ve print fonksiyonunun içine int ifadeler ekleyip sep parametresi ile str ifadelerin arasına gelecek . / gibi işaretleri belirleyin"
   ]
  },
  {
   "cell_type": "code",
   "execution_count": 27,
   "id": "c6257c0f",
   "metadata": {},
   "outputs": [
    {
     "name": "stdout",
     "output_type": "stream",
     "text": [
      "3.4.5.6.7.8.9\n"
     ]
    }
   ],
   "source": [
    "print(3,4,5,6,7,8,9,sep = \".\")"
   ]
  },
  {
   "cell_type": "code",
   "execution_count": null,
   "id": "04b60028",
   "metadata": {},
   "outputs": [],
   "source": []
  },
  {
   "cell_type": "markdown",
   "id": "f1fcfb11",
   "metadata": {},
   "source": [
    "\"3 + 4 'nin toplamı 7 'dır\" ifadesinin formatlı bir şekilde yazılmasını sağlayın"
   ]
  },
  {
   "cell_type": "code",
   "execution_count": 3,
   "id": "2776f0a9",
   "metadata": {},
   "outputs": [
    {
     "data": {
      "text/plain": [
       "\"3 + 4 'nin toplamı 7 'dır\""
      ]
     },
     "execution_count": 3,
     "metadata": {},
     "output_type": "execute_result"
    }
   ],
   "source": [
    "a = 3\n",
    "b = 4\n",
    "\"{} + {} 'nin toplamı {} 'dır\".format(a,b,a+b)"
   ]
  },
  {
   "cell_type": "code",
   "execution_count": null,
   "id": "4b173f37",
   "metadata": {},
   "outputs": [],
   "source": []
  },
  {
   "cell_type": "markdown",
   "id": "19987dc3",
   "metadata": {},
   "source": [
    "Bir Liste oluşturun ve a değerine atayın daha sonrasında ilk indeksine ulaşın"
   ]
  },
  {
   "cell_type": "code",
   "execution_count": 30,
   "id": "e2da974e",
   "metadata": {},
   "outputs": [],
   "source": [
    "liste =  [3,4,5,6,\"Elma\",3.14,5.324]\n"
   ]
  },
  {
   "cell_type": "code",
   "execution_count": 31,
   "id": "3cecf944",
   "metadata": {},
   "outputs": [
    {
     "data": {
      "text/plain": [
       "3"
      ]
     },
     "execution_count": 31,
     "metadata": {},
     "output_type": "execute_result"
    }
   ],
   "source": [
    "liste[0]"
   ]
  },
  {
   "cell_type": "markdown",
   "id": "f8bf608c",
   "metadata": {},
   "source": [
    "Bir Liste oluşturun ve b değerine atayın daha sonrasında baştan başlayacak şekilde 2. indekse kadar yazdırın"
   ]
  },
  {
   "cell_type": "code",
   "execution_count": 32,
   "id": "ee1d822d",
   "metadata": {},
   "outputs": [
    {
     "data": {
      "text/plain": [
       "[3, 4]"
      ]
     },
     "execution_count": 32,
     "metadata": {},
     "output_type": "execute_result"
    }
   ],
   "source": [
    "liste[:2]"
   ]
  },
  {
   "cell_type": "code",
   "execution_count": null,
   "id": "13a8ba1a",
   "metadata": {},
   "outputs": [],
   "source": []
  },
  {
   "cell_type": "markdown",
   "id": "15ae7cf7",
   "metadata": {},
   "source": [
    "Bir Liste oluşturun ve c değerine atayın daha sonrasında append metodunu kullanarak ekleme yapın"
   ]
  },
  {
   "cell_type": "code",
   "execution_count": 33,
   "id": "04e979e7",
   "metadata": {},
   "outputs": [
    {
     "data": {
      "text/plain": [
       "[3, 4, 5, 6, 7]"
      ]
     },
     "execution_count": 33,
     "metadata": {},
     "output_type": "execute_result"
    }
   ],
   "source": [
    "liste = [3,4,5,6]\n",
    "liste.append(7)\n",
    "liste"
   ]
  },
  {
   "cell_type": "code",
   "execution_count": null,
   "id": "3be75bd4",
   "metadata": {},
   "outputs": [],
   "source": []
  },
  {
   "cell_type": "markdown",
   "id": "a58eef1a",
   "metadata": {},
   "source": [
    "Bir Liste oluşturun ve d değerine atayın daha sonrasında pop metodunu kullanarak son indeksi düşürün"
   ]
  },
  {
   "cell_type": "code",
   "execution_count": 34,
   "id": "c0157e6a",
   "metadata": {},
   "outputs": [
    {
     "data": {
      "text/plain": [
       "2"
      ]
     },
     "execution_count": 34,
     "metadata": {},
     "output_type": "execute_result"
    }
   ],
   "source": [
    "liste = [1,2,3,4,5]\n",
    "liste.pop(1)"
   ]
  },
  {
   "cell_type": "code",
   "execution_count": null,
   "id": "563ecc12",
   "metadata": {},
   "outputs": [],
   "source": []
  },
  {
   "cell_type": "markdown",
   "id": "547bc796",
   "metadata": {},
   "source": [
    "Bir Liste oluşturun ve e değerine atayın daha sonrasında sort metodunu kullanarak sıralayın"
   ]
  },
  {
   "cell_type": "code",
   "execution_count": 35,
   "id": "56d2b7e4",
   "metadata": {},
   "outputs": [
    {
     "data": {
      "text/plain": [
       "[1, 2, 3, 19, 23, 34, 56, 334]"
      ]
     },
     "execution_count": 35,
     "metadata": {},
     "output_type": "execute_result"
    }
   ],
   "source": [
    "liste = [34,1,56,334,23,2,3,19]\n",
    "liste.sort() # Küçükten büyüğe sıralar.\n",
    "liste"
   ]
  },
  {
   "cell_type": "markdown",
   "id": "a329995a",
   "metadata": {},
   "source": [
    "Bir Liste oluşturun ve e değerine atayın daha sonrasında sort metodunu kullanarak sıralayın"
   ]
  },
  {
   "cell_type": "code",
   "execution_count": 36,
   "id": "7e9d1445",
   "metadata": {},
   "outputs": [
    {
     "data": {
      "text/plain": [
       "[334, 56, 34, 23, 19, 3, 2, 1]"
      ]
     },
     "execution_count": 36,
     "metadata": {},
     "output_type": "execute_result"
    }
   ],
   "source": [
    "liste.sort(reverse = True) # Büyükten küçüğe sıralar.\n",
    "liste"
   ]
  },
  {
   "cell_type": "code",
   "execution_count": null,
   "id": "67c851b5",
   "metadata": {},
   "outputs": [],
   "source": []
  },
  {
   "cell_type": "code",
   "execution_count": null,
   "id": "90d132ca",
   "metadata": {},
   "outputs": [],
   "source": []
  },
  {
   "cell_type": "markdown",
   "id": "27e72301",
   "metadata": {},
   "source": [
    "3 + 4 'nin toplamı 7 'dır çıktısını print fonksiyonunu ve Formatı kullanarak yazdırın"
   ]
  },
  {
   "cell_type": "code",
   "execution_count": 37,
   "id": "5ca3bd8a",
   "metadata": {},
   "outputs": [
    {
     "data": {
      "text/plain": [
       "\"3 + 4 'nin toplamı 7 'dır\""
      ]
     },
     "execution_count": 37,
     "metadata": {},
     "output_type": "execute_result"
    }
   ],
   "source": [
    "a = 3\n",
    "b = 4\n",
    "\"{} + {} 'nin toplamı {} 'dır\".format(a,b,a+b)"
   ]
  },
  {
   "cell_type": "markdown",
   "id": "0fa40287",
   "metadata": {},
   "source": [
    "Liste Oluşturun"
   ]
  },
  {
   "cell_type": "code",
   "execution_count": 38,
   "id": "a6130975",
   "metadata": {},
   "outputs": [],
   "source": [
    "a=[1,2,3]"
   ]
  },
  {
   "cell_type": "markdown",
   "id": "cd816a23",
   "metadata": {},
   "source": [
    "Tuple oluşturun"
   ]
  },
  {
   "cell_type": "code",
   "execution_count": 39,
   "id": "a4676fcf",
   "metadata": {},
   "outputs": [],
   "source": [
    "a=(1,2,3)"
   ]
  },
  {
   "cell_type": "markdown",
   "id": "0f923c61",
   "metadata": {},
   "source": [
    "Input Fonsiyonu ile kullanıcıdan 2 sayı alın ve bunların toplamını formatlı bir şekilde yazdırın"
   ]
  },
  {
   "cell_type": "code",
   "execution_count": 4,
   "id": "380eef85",
   "metadata": {},
   "outputs": [
    {
     "name": "stdout",
     "output_type": "stream",
     "text": [
      "15\n",
      "15\n",
      "15 15 toplamı 30 dir\n"
     ]
    }
   ],
   "source": [
    "a=int(input())\n",
    "b=int(input())\n",
    "\n",
    "print(\"{} {} toplamı {} dir\".format(a,b,a+b))"
   ]
  },
  {
   "cell_type": "markdown",
   "id": "eff87d1b",
   "metadata": {},
   "source": [
    "### Karşılaştırma Operatörleri \n",
    "\n",
    "<table class=\"table table-bordered\">\n",
    "<tr>\n",
    "<th style=\"width:10%\">Operatör</th><th style=\"width:45%\">Görevi</th><th>Örnek</th>\n",
    "</tr>\n",
    "<tr>\n",
    "<td>==</td>\n",
    "<td>İki değer birbirine eşitse True, değilse False değer döner.</td>\n",
    "<td> 2 == 2 (True) ,  2 == 3 (False)</td>\n",
    "</tr>\n",
    "<tr>\n",
    "<td>!=</td>\n",
    "<td>İki değer birbirine eşit değilse True, diğer durumda False döner.</td>\n",
    "<td>2 != 2 (False), 2 != 3 (True)</td>\n",
    "</tr>\n",
    "<tr>\n",
    "<td>&gt;</td>\n",
    "<td>Soldaki değer sağdaki değerden büyükse True, değilse False döner. </td>\n",
    "<td> 3 > 2 (True), 2 > 3 (False)</td>\n",
    "</tr>\n",
    "<tr>\n",
    "<td>&lt;</td>\n",
    "<td>Soldaki değer sağdaki değerden küçükse True, değilse False döner.</td>\n",
    "<td> 2 &lt; 3 (True) , 3 &lt; 2 (False) </td>\n",
    "</tr>\n",
    "<tr>\n",
    "<td>&gt;=</td>\n",
    "<td>Soldaki değer sağdaki değerden büyükse veya sağdaki değere eşitse True, değilse False döner.</td>\n",
    "<td> 3 &gt;= 2 (True),3 &gt;= 3 (True) , 2 &gt;= 3 (False)</td>\n",
    "</tr>\n",
    "<tr>\n",
    "<td>&lt;=</td>\n",
    "<td>Soldaki değer sağdaki değerden küçükse veya sağdaki değere eşitse True, değilse False döner.</td>\n",
    "<td> 3 &lt;= 2 (False),3 &lt;= 3 (True) , 2 &lt;= 3 (True) </td>\n",
    "</tr>\n",
    "</table>"
   ]
  },
  {
   "cell_type": "markdown",
   "id": "7b40124a",
   "metadata": {},
   "source": [
    "If ile yaş kontrolü yaparak ehliyet almak için sınava girip giremeceğini ekrana yazdırın"
   ]
  },
  {
   "cell_type": "code",
   "execution_count": 43,
   "id": "821f8176",
   "metadata": {},
   "outputs": [
    {
     "name": "stdout",
     "output_type": "stream",
     "text": [
      "18\n",
      "Sınava Girebilirsiniz\n"
     ]
    }
   ],
   "source": [
    "yas=int(input())\n",
    "if yas<18:\n",
    "    print(\"Sınava Giremezsiniz. Yaşınız:\",yas)\n",
    "else:\n",
    "    print(\"Sınava Girebilirsiniz\")"
   ]
  },
  {
   "cell_type": "markdown",
   "id": "e42fedd2",
   "metadata": {},
   "source": [
    "Öğrenciden sınavdan kaç puan aldığını öğreniniz. Sonrasında 90-AA,85-Ba,80-BB,75-CB,70-CC,65-DC, 60-dd ve diğer durumlarda kalacak şekilde ayarlayınız. input, if-elif ve else kullanılacak"
   ]
  },
  {
   "cell_type": "code",
   "execution_count": 44,
   "id": "3448168a",
   "metadata": {},
   "outputs": [
    {
     "name": "stdout",
     "output_type": "stream",
     "text": [
      "Notunuzu giriniz:78\n",
      "CB\n"
     ]
    }
   ],
   "source": [
    "note = float(input(\"Notunuzu giriniz:\"))\n",
    "\n",
    "if note >= 90:\n",
    "    print(\"AA\")\n",
    "elif note >= 85:\n",
    "    print(\"BA\")\n",
    "elif note >= 90:\n",
    "    print(\"BA\")\n",
    "elif note >= 80:\n",
    "    print(\"BB\")\n",
    "elif note >= 75:\n",
    "    print(\"CB\")\n",
    "elif note >= 70:\n",
    "    print(\"CC\")\n",
    "elif note >= 65:\n",
    "    print(\"DC\")\n",
    "elif note >= 60:\n",
    "    print(\"DD\")\n",
    "else:\n",
    "    print(\"Dersten Kaldınız\")\n"
   ]
  },
  {
   "cell_type": "markdown",
   "id": "3fd50ff5",
   "metadata": {},
   "source": [
    "Bir kullanıcıdan bir sayı alın ve bu sayının pozitif, negatif veya sıfır olduğunu belirleyen bir kod yazın"
   ]
  },
  {
   "cell_type": "code",
   "execution_count": 45,
   "id": "eb4b0320",
   "metadata": {},
   "outputs": [
    {
     "name": "stdout",
     "output_type": "stream",
     "text": [
      "-5\n",
      "Negatif\n"
     ]
    }
   ],
   "source": [
    "sayı=int(input())\n",
    "if sayı<0:\n",
    "    print(\"Negatif\")\n",
    "else:\n",
    "    print(\"Pozitif Sayı\")"
   ]
  },
  {
   "cell_type": "code",
   "execution_count": null,
   "id": "ed5aed67",
   "metadata": {},
   "outputs": [],
   "source": []
  },
  {
   "cell_type": "code",
   "execution_count": null,
   "id": "0ffc7a28",
   "metadata": {},
   "outputs": [],
   "source": []
  },
  {
   "cell_type": "markdown",
   "id": "79a711d5",
   "metadata": {},
   "source": [
    "Önceki konumuzda koşullu durumlarımızla sadece tek bir koşulu kontrol edebiliyorduk. Ancak programlamada bir durum bir çok koşula bağlı olabilir. Örneğin bir hesap makinesi programı yazdığımızda kullanıcının girdiği işlemlere göre koşullarımızı belirleyebiliriz. Bu tür durumlar için if-elif-else kalıplarını kullanırız. Kullanımı şu şekildedir;\n",
    "\n",
    "               if koşul: \n",
    "                   Yapılacak İşlemler\n",
    "               elif başka bir koşul:\n",
    "                   Yapılacak İşlemler\n",
    "               elif başka bir koşul:\n",
    "                   Yapılacak İşlemler\n",
    "                   \n",
    "                    //\n",
    "                    //\n",
    "               else:\n",
    "                   Yapılacak İşlemler \n",
    "Programlarımızda, Kaç tane koşulumuz var ise o kadar elif bloğu oluşturabiliriz. Ayrıca **else** in yazılması zorunlu değildir. if - elif - else kalıplarında, hangi koşul sağlanırsa program o bloğu çalıştırır ve if-elif-blokları sona erer.\n",
    "Şimdi isterseniz kullanıcıya işlem seçtirdiğimiz bir programla , bu kalıbı öğrenmeye başlayalım.\n",
    "\n",
    "\n",
    "                   \n",
    "                  "
   ]
  },
  {
   "cell_type": "code",
   "execution_count": null,
   "id": "0be6fe6f",
   "metadata": {},
   "outputs": [],
   "source": []
  },
  {
   "cell_type": "markdown",
   "id": "5c323cfe",
   "metadata": {},
   "source": [
    "3 + 4 'nin toplamı 7 'dır çıktısını print fonksiyonunu ve Formatı kullanarak yazdırın\n",
    "\n",
    "\n",
    "\n",
    "Liste Oluşturun\n",
    "\n",
    "\n",
    "\n",
    "Tuple oluşturun\n",
    "\n",
    "\n",
    "\n",
    "Input Fonsiyonu ile kullanıcıdan 2 sayı alın ve bunların toplamını formatlı bir şekilde yazdırın\n",
    "\n",
    "\n",
    "\n",
    "### Karşılaştırma Operatörleri \n",
    "\n",
    "<table class=\"table table-bordered\">\n",
    "<tr>\n",
    "<th style=\"width:10%\">Operatör</th><th style=\"width:45%\">Görevi</th><th>Örnek</th>\n",
    "</tr>\n",
    "<tr>\n",
    "<td>==</td>\n",
    "<td>İki değer birbirine eşitse True, değilse False değer döner.</td>\n",
    "<td> 2 == 2 (True) ,  2 == 3 (False)</td>\n",
    "</tr>\n",
    "<tr>\n",
    "<td>!=</td>\n",
    "<td>İki değer birbirine eşit değilse True, diğer durumda False döner.</td>\n",
    "<td>2 != 2 (False), 2 != 3 (True)</td>\n",
    "</tr>\n",
    "<tr>\n",
    "<td>&gt;</td>\n",
    "<td>Soldaki değer sağdaki değerden büyükse True, değilse False döner. </td>\n",
    "<td> 3 > 2 (True), 2 > 3 (False)</td>\n",
    "</tr>\n",
    "<tr>\n",
    "<td>&lt;</td>\n",
    "<td>Soldaki değer sağdaki değerden küçükse True, değilse False döner.</td>\n",
    "<td> 2 &lt; 3 (True) , 3 &lt; 2 (False) </td>\n",
    "</tr>\n",
    "<tr>\n",
    "<td>&gt;=</td>\n",
    "<td>Soldaki değer sağdaki değerden büyükse veya sağdaki değere eşitse True, değilse False döner.</td>\n",
    "<td> 3 &gt;= 2 (True),3 &gt;= 3 (True) , 2 &gt;= 3 (False)</td>\n",
    "</tr>\n",
    "<tr>\n",
    "<td>&lt;=</td>\n",
    "<td>Soldaki değer sağdaki değerden küçükse veya sağdaki değere eşitse True, değilse False döner.</td>\n",
    "<td> 3 &lt;= 2 (False),3 &lt;= 3 (True) , 2 &lt;= 3 (True) </td>\n",
    "</tr>\n",
    "</table>\n",
    "\n",
    "If ile yaş kontrolü yaparak ehliyet almak için sınava girip giremeceğini ekrana yazdırın\n",
    "\n",
    "\n",
    "\n",
    "Öğrenciden sınavdan kaç puan aldığını öğreniniz. Sonrasında 90-AA,85-Ba,80-BB,75-CB,70-CC,65-DC, 60-dd ve diğer durumlarda kalacak şekilde ayarlayınız. input, if-elif ve else kullanılacak\n",
    "\n",
    "\n",
    "\n",
    "Bir kullanıcıdan bir sayı alın ve bu sayının pozitif, negatif veya sıfır olduğunu belirleyen bir kod yazın\n",
    "\n",
    "\n",
    "\n",
    "\n",
    "\n",
    "\n",
    "\n",
    "Önceki konumuzda koşullu durumlarımızla sadece tek bir koşulu kontrol edebiliyorduk. Ancak programlamada bir durum bir çok koşula bağlı olabilir. Örneğin bir hesap makinesi programı yazdığımızda kullanıcının girdiği işlemlere göre koşullarımızı belirleyebiliriz. Bu tür durumlar için if-elif-else kalıplarını kullanırız. Kullanımı şu şekildedir;\n",
    "\n",
    "               if koşul: \n",
    "                   Yapılacak İşlemler\n",
    "               elif başka bir koşul:\n",
    "                   Yapılacak İşlemler\n",
    "               elif başka bir koşul:\n",
    "                   Yapılacak İşlemler\n",
    "                   \n",
    "                    //\n",
    "                    //\n",
    "               else:\n",
    "                   Yapılacak İşlemler \n",
    "Programlarımızda, Kaç tane koşulumuz var ise o kadar elif bloğu oluşturabiliriz. Ayrıca **else** in yazılması zorunlu değildir. if - elif - else kalıplarında, hangi koşul sağlanırsa program o bloğu çalıştırır ve if-elif-blokları sona erer.\n",
    "Şimdi isterseniz kullanıcıya işlem seçtirdiğimiz bir programla , bu kalıbı öğrenmeye başlayalım.\n",
    "\n",
    "\n",
    "                   \n",
    "                  \n",
    "\n"
   ]
  },
  {
   "cell_type": "markdown",
   "id": "03028d51",
   "metadata": {},
   "source": [
    "Bir Liste Oluşturun ve For Döngüsü ile liste içerisinde gezinin"
   ]
  },
  {
   "cell_type": "code",
   "execution_count": 3,
   "id": "51801bc8",
   "metadata": {},
   "outputs": [
    {
     "name": "stdout",
     "output_type": "stream",
     "text": [
      "i 1\n",
      "i 2\n",
      "i 3\n",
      "i 4\n",
      "i 5\n",
      "i 6\n",
      "i 7\n"
     ]
    }
   ],
   "source": [
    "liste = [1,2,3,4,5,6,7]\n",
    "\n",
    "for a in liste:\n",
    "    print(\"i\",a)"
   ]
  },
  {
   "cell_type": "code",
   "execution_count": null,
   "id": "c7e94fcd",
   "metadata": {},
   "outputs": [],
   "source": []
  },
  {
   "cell_type": "markdown",
   "id": "e4c87529",
   "metadata": {},
   "source": [
    "Bir liste oluşturun ve listenin elemanlarını toplayın"
   ]
  },
  {
   "cell_type": "code",
   "execution_count": 7,
   "id": "40d11bce",
   "metadata": {},
   "outputs": [
    {
     "name": "stdout",
     "output_type": "stream",
     "text": [
      "Toplam 28\n"
     ]
    }
   ],
   "source": [
    "liste = [1,2,3,4,5,6,7]\n",
    "toplam = 0\n",
    "for eleman in liste:\n",
    "    toplam += eleman\n",
    "print(\"Toplam\",toplam)"
   ]
  },
  {
   "cell_type": "code",
   "execution_count": null,
   "id": "a5df5d01",
   "metadata": {},
   "outputs": [],
   "source": []
  },
  {
   "cell_type": "markdown",
   "id": "ac2b19a8",
   "metadata": {},
   "source": [
    "Bir Liste Oluşturun ve Listedeki çift elemanları ekrana yazdırın"
   ]
  },
  {
   "cell_type": "code",
   "execution_count": 4,
   "id": "9a9fea74",
   "metadata": {},
   "outputs": [
    {
     "name": "stdout",
     "output_type": "stream",
     "text": [
      "2\n",
      "4\n",
      "6\n",
      "8\n"
     ]
    }
   ],
   "source": [
    "# Çift elemanları bastırma\n",
    "liste = [1,2,3,4,5,6,7,8,9]\n",
    "\n",
    "for eleman in liste:\n",
    "    if eleman % 2 == 0:\n",
    "        print(eleman)\n"
   ]
  },
  {
   "cell_type": "code",
   "execution_count": null,
   "id": "8d38059c",
   "metadata": {},
   "outputs": [],
   "source": []
  },
  {
   "cell_type": "markdown",
   "id": "014561ac",
   "metadata": {},
   "source": [
    "Basit bir While döngüsü oluşturun"
   ]
  },
  {
   "cell_type": "code",
   "execution_count": 9,
   "id": "0faa54aa",
   "metadata": {},
   "outputs": [
    {
     "name": "stdout",
     "output_type": "stream",
     "text": [
      "i'nin değeri 0\n",
      "i'nin değeri 1\n",
      "i'nin değeri 2\n",
      "i'nin değeri 3\n",
      "i'nin değeri 4\n",
      "i'nin değeri 5\n",
      "i'nin değeri 6\n",
      "i'nin değeri 7\n",
      "i'nin değeri 8\n",
      "i'nin değeri 9\n"
     ]
    }
   ],
   "source": [
    "i = 0 \n",
    "\n",
    "while (i < 10):\n",
    "    print(\"i'nin değeri\",i)\n",
    "    i += 1 # Koşulun bir süre sonra False olması için gerekli - Unutmayalım"
   ]
  },
  {
   "cell_type": "code",
   "execution_count": null,
   "id": "146a8e23",
   "metadata": {},
   "outputs": [],
   "source": []
  },
  {
   "cell_type": "markdown",
   "id": "3f3a1a07",
   "metadata": {},
   "source": [
    "20 ye kadar gidecek şekilde while döngüsü oluşturun ancak 2'şer atlayarak gitsin"
   ]
  },
  {
   "cell_type": "code",
   "execution_count": null,
   "id": "721bf7cc",
   "metadata": {},
   "outputs": [],
   "source": []
  },
  {
   "cell_type": "markdown",
   "id": "7fd6fcc8",
   "metadata": {},
   "source": [
    "While döngüsü ile ekrana 20 kere Nesne Yönelimli Programlama yazdırın"
   ]
  },
  {
   "cell_type": "code",
   "execution_count": 10,
   "id": "161b98e7",
   "metadata": {},
   "outputs": [
    {
     "name": "stdout",
     "output_type": "stream",
     "text": [
      "Nesne Tabanlı Programlama\n",
      "Nesne Tabanlı Programlama\n",
      "Nesne Tabanlı Programlama\n",
      "Nesne Tabanlı Programlama\n",
      "Nesne Tabanlı Programlama\n",
      "Nesne Tabanlı Programlama\n",
      "Nesne Tabanlı Programlama\n",
      "Nesne Tabanlı Programlama\n",
      "Nesne Tabanlı Programlama\n",
      "Nesne Tabanlı Programlama\n",
      "Nesne Tabanlı Programlama\n",
      "Nesne Tabanlı Programlama\n",
      "Nesne Tabanlı Programlama\n",
      "Nesne Tabanlı Programlama\n",
      "Nesne Tabanlı Programlama\n",
      "Nesne Tabanlı Programlama\n",
      "Nesne Tabanlı Programlama\n",
      "Nesne Tabanlı Programlama\n",
      "Nesne Tabanlı Programlama\n",
      "Nesne Tabanlı Programlama\n"
     ]
    }
   ],
   "source": [
    "i=0\n",
    "while i<20:\n",
    "    print(\"Nesne Tabanlı Programlama\")\n",
    "    i+=1"
   ]
  },
  {
   "cell_type": "code",
   "execution_count": null,
   "id": "d1f77a78",
   "metadata": {},
   "outputs": [],
   "source": []
  },
  {
   "cell_type": "markdown",
   "id": "0d9f2e6b",
   "metadata": {},
   "source": [
    "For döngüsü yazın ancak range i kullanın"
   ]
  },
  {
   "cell_type": "code",
   "execution_count": 12,
   "id": "259a6c05",
   "metadata": {},
   "outputs": [
    {
     "name": "stdout",
     "output_type": "stream",
     "text": [
      "0\n",
      "1\n",
      "2\n",
      "3\n",
      "4\n",
      "5\n",
      "6\n",
      "7\n",
      "8\n",
      "9\n"
     ]
    }
   ],
   "source": [
    "for sayı in range(0,10):\n",
    "    print(sayı)"
   ]
  },
  {
   "cell_type": "code",
   "execution_count": null,
   "id": "7df07b55",
   "metadata": {},
   "outputs": [],
   "source": []
  },
  {
   "cell_type": "markdown",
   "id": "3ed79c46",
   "metadata": {},
   "source": [
    "Break komutunu kullanarak while döngüsü yazın. Koşul= 10 olduğunda döngü sonlansın"
   ]
  },
  {
   "cell_type": "code",
   "execution_count": null,
   "id": "77bbda44",
   "metadata": {},
   "outputs": [],
   "source": [
    "i = 0 # break kullanmaya çalışalım.\n",
    "\n",
    "while (i < 20):\n",
    "    print(i)\n",
    "    if (i == 10):\n",
    "        break # i'nin değeri 10 olunca bu koşul sağlanıyor ve  break ifadesiyle karşılaşıldığı için döngü anında sona eriyor.\n",
    "    i +=1"
   ]
  },
  {
   "cell_type": "markdown",
   "id": "20e59bae",
   "metadata": {},
   "source": [
    "For döngüsü ile break ifadesini kullanın. Koşul= 5 olduğunda döngü bitecek. Önce liste oluşturun, sonra for dönüsünü yazın ve if ile koşulunuzu belirtin"
   ]
  },
  {
   "cell_type": "code",
   "execution_count": 16,
   "id": "97c068cc",
   "metadata": {},
   "outputs": [
    {
     "name": "stdout",
     "output_type": "stream",
     "text": [
      "1\n",
      "2\n",
      "3\n",
      "4\n"
     ]
    }
   ],
   "source": [
    "liste = [1,2,3,4,5,6,7,8,9]\n",
    "for i in liste:\n",
    "    if (i == 5):\n",
    "        break\n",
    "    print(i)"
   ]
  },
  {
   "cell_type": "markdown",
   "id": "d003dd0f",
   "metadata": {},
   "source": [
    "10 a kadar bir liste oluşturun ve for dönügüsü yazarak içerisinde gezmesini sağlayın devamında 3 ve 5 olduğunda atlamasını sağlayın. Önce liste oluşturulacak, for dönügüsü yazılacak ve continue ile atlanması sağlanacak"
   ]
  },
  {
   "cell_type": "code",
   "execution_count": null,
   "id": "39d2552b",
   "metadata": {},
   "outputs": [],
   "source": [
    "liste = [1,2,3,4,5,6,7,8,9] # continue kullanalım.\n",
    "\n",
    "\n",
    "for i in liste:\n",
    "    if (i == 3 or i == 5):\n",
    "        continue\n",
    "    print(\"i:\",i)"
   ]
  },
  {
   "cell_type": "markdown",
   "id": "3b397c80",
   "metadata": {},
   "source": [
    "Her bir while döngüsünde kullanıcıdan bir sayı alın ve kullanıcının girdiği sayıları \"toplam\" isimli bir değişkene ekleyin. Kullanıcı \"q\" tuşuna bastığı zaman döngüyü sonlandırın ve ekrana \"toplam değişkenini\" bastırın.\n"
   ]
  },
  {
   "cell_type": "code",
   "execution_count": 1,
   "id": "f225ff34",
   "metadata": {},
   "outputs": [
    {
     "name": "stdout",
     "output_type": "stream",
     "text": [
      "Sayı:5\n",
      "Sayı:5\n",
      "Sayı:5\n",
      "Sayı:q\n",
      "Girdiğiniz Sayıların Toplamı: 15\n"
     ]
    }
   ],
   "source": [
    "toplam = 0\n",
    "\n",
    "while True:\n",
    "    \n",
    "    sayı = input(\"Sayı:\")\n",
    "    \n",
    "    if (sayı == \"q\"):\n",
    "        break\n",
    "    sayı = int(sayı);\n",
    "    \n",
    "    toplam += sayı\n",
    "    \n",
    "print(\"Girdiğiniz Sayıların Toplamı:\",toplam)"
   ]
  },
  {
   "cell_type": "code",
   "execution_count": null,
   "id": "fc9704af",
   "metadata": {},
   "outputs": [],
   "source": []
  },
  {
   "cell_type": "markdown",
   "id": "a20700c8",
   "metadata": {},
   "source": [
    "1'den 10'kadar olan sayılarla ekrana çarpım tablosu bastırmaya çalışın.\n",
    "\n",
    "***İpucu: İç içe 2 tane for döngüsü kullanın. Aynı zamanda sayıları range() fonksiyonunu kullanarak elde edin.***"
   ]
  },
  {
   "cell_type": "code",
   "execution_count": 5,
   "id": "03db7581",
   "metadata": {},
   "outputs": [
    {
     "name": "stdout",
     "output_type": "stream",
     "text": [
      "*************************************************\n",
      "1 x 1 = 1\n",
      "1 x 2 = 2\n",
      "1 x 3 = 3\n",
      "1 x 4 = 4\n",
      "1 x 5 = 5\n",
      "1 x 6 = 6\n",
      "1 x 7 = 7\n",
      "1 x 8 = 8\n",
      "1 x 9 = 9\n",
      "1 x 10 = 10\n",
      "*************************************************\n",
      "2 x 1 = 2\n",
      "2 x 2 = 4\n",
      "2 x 3 = 6\n",
      "2 x 4 = 8\n",
      "2 x 5 = 10\n",
      "2 x 6 = 12\n",
      "2 x 7 = 14\n",
      "2 x 8 = 16\n",
      "2 x 9 = 18\n",
      "2 x 10 = 20\n",
      "*************************************************\n",
      "3 x 1 = 3\n",
      "3 x 2 = 6\n",
      "3 x 3 = 9\n",
      "3 x 4 = 12\n",
      "3 x 5 = 15\n",
      "3 x 6 = 18\n",
      "3 x 7 = 21\n",
      "3 x 8 = 24\n",
      "3 x 9 = 27\n",
      "3 x 10 = 30\n",
      "*************************************************\n",
      "4 x 1 = 4\n",
      "4 x 2 = 8\n",
      "4 x 3 = 12\n",
      "4 x 4 = 16\n",
      "4 x 5 = 20\n",
      "4 x 6 = 24\n",
      "4 x 7 = 28\n",
      "4 x 8 = 32\n",
      "4 x 9 = 36\n",
      "4 x 10 = 40\n",
      "*************************************************\n",
      "5 x 1 = 5\n",
      "5 x 2 = 10\n",
      "5 x 3 = 15\n",
      "5 x 4 = 20\n",
      "5 x 5 = 25\n",
      "5 x 6 = 30\n",
      "5 x 7 = 35\n",
      "5 x 8 = 40\n",
      "5 x 9 = 45\n",
      "5 x 10 = 50\n",
      "*************************************************\n",
      "6 x 1 = 6\n",
      "6 x 2 = 12\n",
      "6 x 3 = 18\n",
      "6 x 4 = 24\n",
      "6 x 5 = 30\n",
      "6 x 6 = 36\n",
      "6 x 7 = 42\n",
      "6 x 8 = 48\n",
      "6 x 9 = 54\n",
      "6 x 10 = 60\n",
      "*************************************************\n",
      "7 x 1 = 7\n",
      "7 x 2 = 14\n",
      "7 x 3 = 21\n",
      "7 x 4 = 28\n",
      "7 x 5 = 35\n",
      "7 x 6 = 42\n",
      "7 x 7 = 49\n",
      "7 x 8 = 56\n",
      "7 x 9 = 63\n",
      "7 x 10 = 70\n",
      "*************************************************\n",
      "8 x 1 = 8\n",
      "8 x 2 = 16\n",
      "8 x 3 = 24\n",
      "8 x 4 = 32\n",
      "8 x 5 = 40\n",
      "8 x 6 = 48\n",
      "8 x 7 = 56\n",
      "8 x 8 = 64\n",
      "8 x 9 = 72\n",
      "8 x 10 = 80\n",
      "*************************************************\n",
      "9 x 1 = 9\n",
      "9 x 2 = 18\n",
      "9 x 3 = 27\n",
      "9 x 4 = 36\n",
      "9 x 5 = 45\n",
      "9 x 6 = 54\n",
      "9 x 7 = 63\n",
      "9 x 8 = 72\n",
      "9 x 9 = 81\n",
      "9 x 10 = 90\n",
      "*************************************************\n",
      "10 x 1 = 10\n",
      "10 x 2 = 20\n",
      "10 x 3 = 30\n",
      "10 x 4 = 40\n",
      "10 x 5 = 50\n",
      "10 x 6 = 60\n",
      "10 x 7 = 70\n",
      "10 x 8 = 80\n",
      "10 x 9 = 90\n",
      "10 x 10 = 100\n"
     ]
    }
   ],
   "source": [
    "for i in range(1,11):\n",
    "    print(\"*************************************************\")\n",
    "    for j in range(1,11):\n",
    "        \n",
    "        print(\"{} x {} = {}\".format(i,j,i*j))"
   ]
  }
 ],
 "metadata": {
  "kernelspec": {
   "display_name": "Python 3 (ipykernel)",
   "language": "python",
   "name": "python3"
  },
  "language_info": {
   "codemirror_mode": {
    "name": "ipython",
    "version": 3
   },
   "file_extension": ".py",
   "mimetype": "text/x-python",
   "name": "python",
   "nbconvert_exporter": "python",
   "pygments_lexer": "ipython3",
   "version": "3.9.12"
  }
 },
 "nbformat": 4,
 "nbformat_minor": 5
}
